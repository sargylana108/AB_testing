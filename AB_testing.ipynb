{
  "cells": [
    {
      "cell_type": "markdown",
      "metadata": {
        "id": "RrEqSrUUpRh9"
      },
      "source": [
        "# Задание\n",
        "Компании заинтересованы в ответах на два вопроса:\n",
        "1.   Будет ли кампания успешной?\n",
        "2.   Если кампания была успешной, насколько этот успех можно объяснить рекламой?\n",
        "Чтобы ответить на второй вопрос, мы обычно проводим A/B тестирование.\n",
        "\n",
        "Большинство людей будут видеть рекламу (экспериментальная группа). А небольшая часть людей (контрольная группа) вместо этого увидит объявление государственной службы (PSA) (или ничего) точно такого же размера и в том же месте, где обычно находится реклама.\n",
        "\n",
        "Идея задания состоит в том, чтобы проанализировать группы, выяснить, была ли реклама успешной, сколько компания может заработать на рекламе и является ли разница между группами статистически значимой.\n"
      ]
    },
    {
      "cell_type": "markdown",
      "metadata": {
        "id": "IurV_OiSLqHd"
      },
      "source": [
        "**Словарь данных:**\n",
        "\n",
        "* user id: Идентификатор пользователя (уникальный).\n",
        "* test group: Если «ad», то человек видел рекламу, если «psa», то он видел только объявление государственной службы.\n",
        "* converted: Если человек купил продукт, то True, иначе False.\n",
        "* total ads: Количество рекламы, увиденной человеком.\n",
        "* most ads day: День, в который человек увидел наибольшее количество рекламы.\n",
        "* most ads hour: Час дня, в который человек увидел наибольшее количество рекламы."
      ]
    },
    {
      "cell_type": "markdown",
      "source": [
        "<a id='home'></a>\n",
        "\n",
        "В этом задании необходимо выполнить следующие действия:\n",
        "1.    [Анализ структуры и предобработка данных](#cell-ixIaS7xOoxf7)\n",
        "\n",
        "2.   [Первичный анализ результатов A/B-теста](#cell-Qd3qV9E3vM08)\n",
        "\n",
        "3.   [Статистические тесты для анализа результатов A/B-теста](#cell-0aDP5--wa1GL)\n",
        "\n",
        "4.   [Доверительные интервалы для анализа результатов A/B-теста](#cell-TkIsyeC8S76d)\n",
        "\n",
        "5.   [Обобщённые итоги и вывод](#cell-z1jDEuWuM9_s)\n",
        "\n",
        "6.   [Дополнительный анализ](#cell-lj4QU27qM9_t)"
      ],
      "metadata": {
        "id": "qyni2CjeNBvh"
      }
    },
    {
      "cell_type": "code",
      "execution_count": null,
      "metadata": {
        "id": "7BKVyZtMjOMd"
      },
      "outputs": [],
      "source": [
        "import pandas as pd\n",
        "import numpy as np\n",
        "import matplotlib.pyplot as plt\n",
        "import seaborn as sns\n",
        "import pylab\n",
        "import io"
      ]
    },
    {
      "cell_type": "code",
      "execution_count": null,
      "metadata": {
        "colab": {
          "base_uri": "https://localhost:8080/",
          "height": 74
        },
        "id": "RqYQUT7Vkfx8",
        "outputId": "771df22d-750b-4785-b9f0-d8089724a0ae"
      },
      "outputs": [
        {
          "output_type": "display_data",
          "data": {
            "text/plain": [
              "<IPython.core.display.HTML object>"
            ],
            "text/html": [
              "\n",
              "     <input type=\"file\" id=\"files-2e9b14e1-d5dc-4bb0-ba95-3a8e11c0a77e\" name=\"files[]\" multiple disabled\n",
              "        style=\"border:none\" />\n",
              "     <output id=\"result-2e9b14e1-d5dc-4bb0-ba95-3a8e11c0a77e\">\n",
              "      Upload widget is only available when the cell has been executed in the\n",
              "      current browser session. Please rerun this cell to enable.\n",
              "      </output>\n",
              "      <script>// Copyright 2017 Google LLC\n",
              "//\n",
              "// Licensed under the Apache License, Version 2.0 (the \"License\");\n",
              "// you may not use this file except in compliance with the License.\n",
              "// You may obtain a copy of the License at\n",
              "//\n",
              "//      http://www.apache.org/licenses/LICENSE-2.0\n",
              "//\n",
              "// Unless required by applicable law or agreed to in writing, software\n",
              "// distributed under the License is distributed on an \"AS IS\" BASIS,\n",
              "// WITHOUT WARRANTIES OR CONDITIONS OF ANY KIND, either express or implied.\n",
              "// See the License for the specific language governing permissions and\n",
              "// limitations under the License.\n",
              "\n",
              "/**\n",
              " * @fileoverview Helpers for google.colab Python module.\n",
              " */\n",
              "(function(scope) {\n",
              "function span(text, styleAttributes = {}) {\n",
              "  const element = document.createElement('span');\n",
              "  element.textContent = text;\n",
              "  for (const key of Object.keys(styleAttributes)) {\n",
              "    element.style[key] = styleAttributes[key];\n",
              "  }\n",
              "  return element;\n",
              "}\n",
              "\n",
              "// Max number of bytes which will be uploaded at a time.\n",
              "const MAX_PAYLOAD_SIZE = 100 * 1024;\n",
              "\n",
              "function _uploadFiles(inputId, outputId) {\n",
              "  const steps = uploadFilesStep(inputId, outputId);\n",
              "  const outputElement = document.getElementById(outputId);\n",
              "  // Cache steps on the outputElement to make it available for the next call\n",
              "  // to uploadFilesContinue from Python.\n",
              "  outputElement.steps = steps;\n",
              "\n",
              "  return _uploadFilesContinue(outputId);\n",
              "}\n",
              "\n",
              "// This is roughly an async generator (not supported in the browser yet),\n",
              "// where there are multiple asynchronous steps and the Python side is going\n",
              "// to poll for completion of each step.\n",
              "// This uses a Promise to block the python side on completion of each step,\n",
              "// then passes the result of the previous step as the input to the next step.\n",
              "function _uploadFilesContinue(outputId) {\n",
              "  const outputElement = document.getElementById(outputId);\n",
              "  const steps = outputElement.steps;\n",
              "\n",
              "  const next = steps.next(outputElement.lastPromiseValue);\n",
              "  return Promise.resolve(next.value.promise).then((value) => {\n",
              "    // Cache the last promise value to make it available to the next\n",
              "    // step of the generator.\n",
              "    outputElement.lastPromiseValue = value;\n",
              "    return next.value.response;\n",
              "  });\n",
              "}\n",
              "\n",
              "/**\n",
              " * Generator function which is called between each async step of the upload\n",
              " * process.\n",
              " * @param {string} inputId Element ID of the input file picker element.\n",
              " * @param {string} outputId Element ID of the output display.\n",
              " * @return {!Iterable<!Object>} Iterable of next steps.\n",
              " */\n",
              "function* uploadFilesStep(inputId, outputId) {\n",
              "  const inputElement = document.getElementById(inputId);\n",
              "  inputElement.disabled = false;\n",
              "\n",
              "  const outputElement = document.getElementById(outputId);\n",
              "  outputElement.innerHTML = '';\n",
              "\n",
              "  const pickedPromise = new Promise((resolve) => {\n",
              "    inputElement.addEventListener('change', (e) => {\n",
              "      resolve(e.target.files);\n",
              "    });\n",
              "  });\n",
              "\n",
              "  const cancel = document.createElement('button');\n",
              "  inputElement.parentElement.appendChild(cancel);\n",
              "  cancel.textContent = 'Cancel upload';\n",
              "  const cancelPromise = new Promise((resolve) => {\n",
              "    cancel.onclick = () => {\n",
              "      resolve(null);\n",
              "    };\n",
              "  });\n",
              "\n",
              "  // Wait for the user to pick the files.\n",
              "  const files = yield {\n",
              "    promise: Promise.race([pickedPromise, cancelPromise]),\n",
              "    response: {\n",
              "      action: 'starting',\n",
              "    }\n",
              "  };\n",
              "\n",
              "  cancel.remove();\n",
              "\n",
              "  // Disable the input element since further picks are not allowed.\n",
              "  inputElement.disabled = true;\n",
              "\n",
              "  if (!files) {\n",
              "    return {\n",
              "      response: {\n",
              "        action: 'complete',\n",
              "      }\n",
              "    };\n",
              "  }\n",
              "\n",
              "  for (const file of files) {\n",
              "    const li = document.createElement('li');\n",
              "    li.append(span(file.name, {fontWeight: 'bold'}));\n",
              "    li.append(span(\n",
              "        `(${file.type || 'n/a'}) - ${file.size} bytes, ` +\n",
              "        `last modified: ${\n",
              "            file.lastModifiedDate ? file.lastModifiedDate.toLocaleDateString() :\n",
              "                                    'n/a'} - `));\n",
              "    const percent = span('0% done');\n",
              "    li.appendChild(percent);\n",
              "\n",
              "    outputElement.appendChild(li);\n",
              "\n",
              "    const fileDataPromise = new Promise((resolve) => {\n",
              "      const reader = new FileReader();\n",
              "      reader.onload = (e) => {\n",
              "        resolve(e.target.result);\n",
              "      };\n",
              "      reader.readAsArrayBuffer(file);\n",
              "    });\n",
              "    // Wait for the data to be ready.\n",
              "    let fileData = yield {\n",
              "      promise: fileDataPromise,\n",
              "      response: {\n",
              "        action: 'continue',\n",
              "      }\n",
              "    };\n",
              "\n",
              "    // Use a chunked sending to avoid message size limits. See b/62115660.\n",
              "    let position = 0;\n",
              "    do {\n",
              "      const length = Math.min(fileData.byteLength - position, MAX_PAYLOAD_SIZE);\n",
              "      const chunk = new Uint8Array(fileData, position, length);\n",
              "      position += length;\n",
              "\n",
              "      const base64 = btoa(String.fromCharCode.apply(null, chunk));\n",
              "      yield {\n",
              "        response: {\n",
              "          action: 'append',\n",
              "          file: file.name,\n",
              "          data: base64,\n",
              "        },\n",
              "      };\n",
              "\n",
              "      let percentDone = fileData.byteLength === 0 ?\n",
              "          100 :\n",
              "          Math.round((position / fileData.byteLength) * 100);\n",
              "      percent.textContent = `${percentDone}% done`;\n",
              "\n",
              "    } while (position < fileData.byteLength);\n",
              "  }\n",
              "\n",
              "  // All done.\n",
              "  yield {\n",
              "    response: {\n",
              "      action: 'complete',\n",
              "    }\n",
              "  };\n",
              "}\n",
              "\n",
              "scope.google = scope.google || {};\n",
              "scope.google.colab = scope.google.colab || {};\n",
              "scope.google.colab._files = {\n",
              "  _uploadFiles,\n",
              "  _uploadFilesContinue,\n",
              "};\n",
              "})(self);\n",
              "</script> "
            ]
          },
          "metadata": {}
        },
        {
          "output_type": "stream",
          "name": "stdout",
          "text": [
            "Saving marketing_AB.csv to marketing_AB.csv\n"
          ]
        }
      ],
      "source": [
        "from google.colab import files\n",
        "uploaded = files.upload()"
      ]
    },
    {
      "cell_type": "markdown",
      "source": [
        "[↑наверх](#cell-qyni2CjeNBvh)"
      ],
      "metadata": {
        "id": "-AYLZw2nPX4-"
      }
    },
    {
      "cell_type": "markdown",
      "metadata": {
        "id": "ixIaS7xOoxf7"
      },
      "source": [
        "# 1. Анализ структуры и предобработка данных"
      ]
    },
    {
      "cell_type": "code",
      "execution_count": null,
      "metadata": {
        "colab": {
          "base_uri": "https://localhost:8080/",
          "height": 206
        },
        "id": "KzFQGxj1jeMr",
        "outputId": "39f783e0-b632-4a29-df82-246be90fabc5"
      },
      "outputs": [
        {
          "output_type": "execute_result",
          "data": {
            "text/plain": [
              "   Unnamed: 0  user id test group  converted  total ads most ads day  \\\n",
              "0           0  1069124         ad      False        130       Monday   \n",
              "1           1  1119715         ad      False         93      Tuesday   \n",
              "2           2  1144181         ad      False         21      Tuesday   \n",
              "3           3  1435133         ad      False        355      Tuesday   \n",
              "4           4  1015700         ad      False        276       Friday   \n",
              "\n",
              "   most ads hour  \n",
              "0             20  \n",
              "1             22  \n",
              "2             18  \n",
              "3             10  \n",
              "4             14  "
            ],
            "text/html": [
              "\n",
              "  <div id=\"df-8b5fd0f0-02cd-4a64-bbbc-435d7904ccee\" class=\"colab-df-container\">\n",
              "    <div>\n",
              "<style scoped>\n",
              "    .dataframe tbody tr th:only-of-type {\n",
              "        vertical-align: middle;\n",
              "    }\n",
              "\n",
              "    .dataframe tbody tr th {\n",
              "        vertical-align: top;\n",
              "    }\n",
              "\n",
              "    .dataframe thead th {\n",
              "        text-align: right;\n",
              "    }\n",
              "</style>\n",
              "<table border=\"1\" class=\"dataframe\">\n",
              "  <thead>\n",
              "    <tr style=\"text-align: right;\">\n",
              "      <th></th>\n",
              "      <th>Unnamed: 0</th>\n",
              "      <th>user id</th>\n",
              "      <th>test group</th>\n",
              "      <th>converted</th>\n",
              "      <th>total ads</th>\n",
              "      <th>most ads day</th>\n",
              "      <th>most ads hour</th>\n",
              "    </tr>\n",
              "  </thead>\n",
              "  <tbody>\n",
              "    <tr>\n",
              "      <th>0</th>\n",
              "      <td>0</td>\n",
              "      <td>1069124</td>\n",
              "      <td>ad</td>\n",
              "      <td>False</td>\n",
              "      <td>130</td>\n",
              "      <td>Monday</td>\n",
              "      <td>20</td>\n",
              "    </tr>\n",
              "    <tr>\n",
              "      <th>1</th>\n",
              "      <td>1</td>\n",
              "      <td>1119715</td>\n",
              "      <td>ad</td>\n",
              "      <td>False</td>\n",
              "      <td>93</td>\n",
              "      <td>Tuesday</td>\n",
              "      <td>22</td>\n",
              "    </tr>\n",
              "    <tr>\n",
              "      <th>2</th>\n",
              "      <td>2</td>\n",
              "      <td>1144181</td>\n",
              "      <td>ad</td>\n",
              "      <td>False</td>\n",
              "      <td>21</td>\n",
              "      <td>Tuesday</td>\n",
              "      <td>18</td>\n",
              "    </tr>\n",
              "    <tr>\n",
              "      <th>3</th>\n",
              "      <td>3</td>\n",
              "      <td>1435133</td>\n",
              "      <td>ad</td>\n",
              "      <td>False</td>\n",
              "      <td>355</td>\n",
              "      <td>Tuesday</td>\n",
              "      <td>10</td>\n",
              "    </tr>\n",
              "    <tr>\n",
              "      <th>4</th>\n",
              "      <td>4</td>\n",
              "      <td>1015700</td>\n",
              "      <td>ad</td>\n",
              "      <td>False</td>\n",
              "      <td>276</td>\n",
              "      <td>Friday</td>\n",
              "      <td>14</td>\n",
              "    </tr>\n",
              "  </tbody>\n",
              "</table>\n",
              "</div>\n",
              "    <div class=\"colab-df-buttons\">\n",
              "\n",
              "  <div class=\"colab-df-container\">\n",
              "    <button class=\"colab-df-convert\" onclick=\"convertToInteractive('df-8b5fd0f0-02cd-4a64-bbbc-435d7904ccee')\"\n",
              "            title=\"Convert this dataframe to an interactive table.\"\n",
              "            style=\"display:none;\">\n",
              "\n",
              "  <svg xmlns=\"http://www.w3.org/2000/svg\" height=\"24px\" viewBox=\"0 -960 960 960\">\n",
              "    <path d=\"M120-120v-720h720v720H120Zm60-500h600v-160H180v160Zm220 220h160v-160H400v160Zm0 220h160v-160H400v160ZM180-400h160v-160H180v160Zm440 0h160v-160H620v160ZM180-180h160v-160H180v160Zm440 0h160v-160H620v160Z\"/>\n",
              "  </svg>\n",
              "    </button>\n",
              "\n",
              "  <style>\n",
              "    .colab-df-container {\n",
              "      display:flex;\n",
              "      gap: 12px;\n",
              "    }\n",
              "\n",
              "    .colab-df-convert {\n",
              "      background-color: #E8F0FE;\n",
              "      border: none;\n",
              "      border-radius: 50%;\n",
              "      cursor: pointer;\n",
              "      display: none;\n",
              "      fill: #1967D2;\n",
              "      height: 32px;\n",
              "      padding: 0 0 0 0;\n",
              "      width: 32px;\n",
              "    }\n",
              "\n",
              "    .colab-df-convert:hover {\n",
              "      background-color: #E2EBFA;\n",
              "      box-shadow: 0px 1px 2px rgba(60, 64, 67, 0.3), 0px 1px 3px 1px rgba(60, 64, 67, 0.15);\n",
              "      fill: #174EA6;\n",
              "    }\n",
              "\n",
              "    .colab-df-buttons div {\n",
              "      margin-bottom: 4px;\n",
              "    }\n",
              "\n",
              "    [theme=dark] .colab-df-convert {\n",
              "      background-color: #3B4455;\n",
              "      fill: #D2E3FC;\n",
              "    }\n",
              "\n",
              "    [theme=dark] .colab-df-convert:hover {\n",
              "      background-color: #434B5C;\n",
              "      box-shadow: 0px 1px 3px 1px rgba(0, 0, 0, 0.15);\n",
              "      filter: drop-shadow(0px 1px 2px rgba(0, 0, 0, 0.3));\n",
              "      fill: #FFFFFF;\n",
              "    }\n",
              "  </style>\n",
              "\n",
              "    <script>\n",
              "      const buttonEl =\n",
              "        document.querySelector('#df-8b5fd0f0-02cd-4a64-bbbc-435d7904ccee button.colab-df-convert');\n",
              "      buttonEl.style.display =\n",
              "        google.colab.kernel.accessAllowed ? 'block' : 'none';\n",
              "\n",
              "      async function convertToInteractive(key) {\n",
              "        const element = document.querySelector('#df-8b5fd0f0-02cd-4a64-bbbc-435d7904ccee');\n",
              "        const dataTable =\n",
              "          await google.colab.kernel.invokeFunction('convertToInteractive',\n",
              "                                                    [key], {});\n",
              "        if (!dataTable) return;\n",
              "\n",
              "        const docLinkHtml = 'Like what you see? Visit the ' +\n",
              "          '<a target=\"_blank\" href=https://colab.research.google.com/notebooks/data_table.ipynb>data table notebook</a>'\n",
              "          + ' to learn more about interactive tables.';\n",
              "        element.innerHTML = '';\n",
              "        dataTable['output_type'] = 'display_data';\n",
              "        await google.colab.output.renderOutput(dataTable, element);\n",
              "        const docLink = document.createElement('div');\n",
              "        docLink.innerHTML = docLinkHtml;\n",
              "        element.appendChild(docLink);\n",
              "      }\n",
              "    </script>\n",
              "  </div>\n",
              "\n",
              "\n",
              "<div id=\"df-1025499b-7c61-4343-ae76-ff717bf2da13\">\n",
              "  <button class=\"colab-df-quickchart\" onclick=\"quickchart('df-1025499b-7c61-4343-ae76-ff717bf2da13')\"\n",
              "            title=\"Suggest charts\"\n",
              "            style=\"display:none;\">\n",
              "\n",
              "<svg xmlns=\"http://www.w3.org/2000/svg\" height=\"24px\"viewBox=\"0 0 24 24\"\n",
              "     width=\"24px\">\n",
              "    <g>\n",
              "        <path d=\"M19 3H5c-1.1 0-2 .9-2 2v14c0 1.1.9 2 2 2h14c1.1 0 2-.9 2-2V5c0-1.1-.9-2-2-2zM9 17H7v-7h2v7zm4 0h-2V7h2v10zm4 0h-2v-4h2v4z\"/>\n",
              "    </g>\n",
              "</svg>\n",
              "  </button>\n",
              "\n",
              "<style>\n",
              "  .colab-df-quickchart {\n",
              "      --bg-color: #E8F0FE;\n",
              "      --fill-color: #1967D2;\n",
              "      --hover-bg-color: #E2EBFA;\n",
              "      --hover-fill-color: #174EA6;\n",
              "      --disabled-fill-color: #AAA;\n",
              "      --disabled-bg-color: #DDD;\n",
              "  }\n",
              "\n",
              "  [theme=dark] .colab-df-quickchart {\n",
              "      --bg-color: #3B4455;\n",
              "      --fill-color: #D2E3FC;\n",
              "      --hover-bg-color: #434B5C;\n",
              "      --hover-fill-color: #FFFFFF;\n",
              "      --disabled-bg-color: #3B4455;\n",
              "      --disabled-fill-color: #666;\n",
              "  }\n",
              "\n",
              "  .colab-df-quickchart {\n",
              "    background-color: var(--bg-color);\n",
              "    border: none;\n",
              "    border-radius: 50%;\n",
              "    cursor: pointer;\n",
              "    display: none;\n",
              "    fill: var(--fill-color);\n",
              "    height: 32px;\n",
              "    padding: 0;\n",
              "    width: 32px;\n",
              "  }\n",
              "\n",
              "  .colab-df-quickchart:hover {\n",
              "    background-color: var(--hover-bg-color);\n",
              "    box-shadow: 0 1px 2px rgba(60, 64, 67, 0.3), 0 1px 3px 1px rgba(60, 64, 67, 0.15);\n",
              "    fill: var(--button-hover-fill-color);\n",
              "  }\n",
              "\n",
              "  .colab-df-quickchart-complete:disabled,\n",
              "  .colab-df-quickchart-complete:disabled:hover {\n",
              "    background-color: var(--disabled-bg-color);\n",
              "    fill: var(--disabled-fill-color);\n",
              "    box-shadow: none;\n",
              "  }\n",
              "\n",
              "  .colab-df-spinner {\n",
              "    border: 2px solid var(--fill-color);\n",
              "    border-color: transparent;\n",
              "    border-bottom-color: var(--fill-color);\n",
              "    animation:\n",
              "      spin 1s steps(1) infinite;\n",
              "  }\n",
              "\n",
              "  @keyframes spin {\n",
              "    0% {\n",
              "      border-color: transparent;\n",
              "      border-bottom-color: var(--fill-color);\n",
              "      border-left-color: var(--fill-color);\n",
              "    }\n",
              "    20% {\n",
              "      border-color: transparent;\n",
              "      border-left-color: var(--fill-color);\n",
              "      border-top-color: var(--fill-color);\n",
              "    }\n",
              "    30% {\n",
              "      border-color: transparent;\n",
              "      border-left-color: var(--fill-color);\n",
              "      border-top-color: var(--fill-color);\n",
              "      border-right-color: var(--fill-color);\n",
              "    }\n",
              "    40% {\n",
              "      border-color: transparent;\n",
              "      border-right-color: var(--fill-color);\n",
              "      border-top-color: var(--fill-color);\n",
              "    }\n",
              "    60% {\n",
              "      border-color: transparent;\n",
              "      border-right-color: var(--fill-color);\n",
              "    }\n",
              "    80% {\n",
              "      border-color: transparent;\n",
              "      border-right-color: var(--fill-color);\n",
              "      border-bottom-color: var(--fill-color);\n",
              "    }\n",
              "    90% {\n",
              "      border-color: transparent;\n",
              "      border-bottom-color: var(--fill-color);\n",
              "    }\n",
              "  }\n",
              "</style>\n",
              "\n",
              "  <script>\n",
              "    async function quickchart(key) {\n",
              "      const quickchartButtonEl =\n",
              "        document.querySelector('#' + key + ' button');\n",
              "      quickchartButtonEl.disabled = true;  // To prevent multiple clicks.\n",
              "      quickchartButtonEl.classList.add('colab-df-spinner');\n",
              "      try {\n",
              "        const charts = await google.colab.kernel.invokeFunction(\n",
              "            'suggestCharts', [key], {});\n",
              "      } catch (error) {\n",
              "        console.error('Error during call to suggestCharts:', error);\n",
              "      }\n",
              "      quickchartButtonEl.classList.remove('colab-df-spinner');\n",
              "      quickchartButtonEl.classList.add('colab-df-quickchart-complete');\n",
              "    }\n",
              "    (() => {\n",
              "      let quickchartButtonEl =\n",
              "        document.querySelector('#df-1025499b-7c61-4343-ae76-ff717bf2da13 button');\n",
              "      quickchartButtonEl.style.display =\n",
              "        google.colab.kernel.accessAllowed ? 'block' : 'none';\n",
              "    })();\n",
              "  </script>\n",
              "</div>\n",
              "    </div>\n",
              "  </div>\n"
            ]
          },
          "metadata": {},
          "execution_count": 3
        }
      ],
      "source": [
        "# Загрузим данные\n",
        "df = pd.read_csv(io.BytesIO(uploaded['marketing_AB.csv']))\n",
        "df.head()"
      ]
    },
    {
      "cell_type": "code",
      "execution_count": null,
      "metadata": {
        "colab": {
          "base_uri": "https://localhost:8080/",
          "height": 206
        },
        "id": "moeyYARssp9r",
        "outputId": "e8dcf665-75a6-4521-8ad8-e92e56c07e47"
      },
      "outputs": [
        {
          "output_type": "execute_result",
          "data": {
            "text/plain": [
              "        Unnamed: 0  user id test group  converted  total ads most ads day  \\\n",
              "588096      588096  1278437         ad      False          1      Tuesday   \n",
              "588097      588097  1327975         ad      False          1      Tuesday   \n",
              "588098      588098  1038442         ad      False          3      Tuesday   \n",
              "588099      588099  1496395         ad      False          1      Tuesday   \n",
              "588100      588100  1237779         ad      False          1      Tuesday   \n",
              "\n",
              "        most ads hour  \n",
              "588096             23  \n",
              "588097             23  \n",
              "588098             23  \n",
              "588099             23  \n",
              "588100             23  "
            ],
            "text/html": [
              "\n",
              "  <div id=\"df-56815600-df35-4fc6-9f04-0181c66a585b\" class=\"colab-df-container\">\n",
              "    <div>\n",
              "<style scoped>\n",
              "    .dataframe tbody tr th:only-of-type {\n",
              "        vertical-align: middle;\n",
              "    }\n",
              "\n",
              "    .dataframe tbody tr th {\n",
              "        vertical-align: top;\n",
              "    }\n",
              "\n",
              "    .dataframe thead th {\n",
              "        text-align: right;\n",
              "    }\n",
              "</style>\n",
              "<table border=\"1\" class=\"dataframe\">\n",
              "  <thead>\n",
              "    <tr style=\"text-align: right;\">\n",
              "      <th></th>\n",
              "      <th>Unnamed: 0</th>\n",
              "      <th>user id</th>\n",
              "      <th>test group</th>\n",
              "      <th>converted</th>\n",
              "      <th>total ads</th>\n",
              "      <th>most ads day</th>\n",
              "      <th>most ads hour</th>\n",
              "    </tr>\n",
              "  </thead>\n",
              "  <tbody>\n",
              "    <tr>\n",
              "      <th>588096</th>\n",
              "      <td>588096</td>\n",
              "      <td>1278437</td>\n",
              "      <td>ad</td>\n",
              "      <td>False</td>\n",
              "      <td>1</td>\n",
              "      <td>Tuesday</td>\n",
              "      <td>23</td>\n",
              "    </tr>\n",
              "    <tr>\n",
              "      <th>588097</th>\n",
              "      <td>588097</td>\n",
              "      <td>1327975</td>\n",
              "      <td>ad</td>\n",
              "      <td>False</td>\n",
              "      <td>1</td>\n",
              "      <td>Tuesday</td>\n",
              "      <td>23</td>\n",
              "    </tr>\n",
              "    <tr>\n",
              "      <th>588098</th>\n",
              "      <td>588098</td>\n",
              "      <td>1038442</td>\n",
              "      <td>ad</td>\n",
              "      <td>False</td>\n",
              "      <td>3</td>\n",
              "      <td>Tuesday</td>\n",
              "      <td>23</td>\n",
              "    </tr>\n",
              "    <tr>\n",
              "      <th>588099</th>\n",
              "      <td>588099</td>\n",
              "      <td>1496395</td>\n",
              "      <td>ad</td>\n",
              "      <td>False</td>\n",
              "      <td>1</td>\n",
              "      <td>Tuesday</td>\n",
              "      <td>23</td>\n",
              "    </tr>\n",
              "    <tr>\n",
              "      <th>588100</th>\n",
              "      <td>588100</td>\n",
              "      <td>1237779</td>\n",
              "      <td>ad</td>\n",
              "      <td>False</td>\n",
              "      <td>1</td>\n",
              "      <td>Tuesday</td>\n",
              "      <td>23</td>\n",
              "    </tr>\n",
              "  </tbody>\n",
              "</table>\n",
              "</div>\n",
              "    <div class=\"colab-df-buttons\">\n",
              "\n",
              "  <div class=\"colab-df-container\">\n",
              "    <button class=\"colab-df-convert\" onclick=\"convertToInteractive('df-56815600-df35-4fc6-9f04-0181c66a585b')\"\n",
              "            title=\"Convert this dataframe to an interactive table.\"\n",
              "            style=\"display:none;\">\n",
              "\n",
              "  <svg xmlns=\"http://www.w3.org/2000/svg\" height=\"24px\" viewBox=\"0 -960 960 960\">\n",
              "    <path d=\"M120-120v-720h720v720H120Zm60-500h600v-160H180v160Zm220 220h160v-160H400v160Zm0 220h160v-160H400v160ZM180-400h160v-160H180v160Zm440 0h160v-160H620v160ZM180-180h160v-160H180v160Zm440 0h160v-160H620v160Z\"/>\n",
              "  </svg>\n",
              "    </button>\n",
              "\n",
              "  <style>\n",
              "    .colab-df-container {\n",
              "      display:flex;\n",
              "      gap: 12px;\n",
              "    }\n",
              "\n",
              "    .colab-df-convert {\n",
              "      background-color: #E8F0FE;\n",
              "      border: none;\n",
              "      border-radius: 50%;\n",
              "      cursor: pointer;\n",
              "      display: none;\n",
              "      fill: #1967D2;\n",
              "      height: 32px;\n",
              "      padding: 0 0 0 0;\n",
              "      width: 32px;\n",
              "    }\n",
              "\n",
              "    .colab-df-convert:hover {\n",
              "      background-color: #E2EBFA;\n",
              "      box-shadow: 0px 1px 2px rgba(60, 64, 67, 0.3), 0px 1px 3px 1px rgba(60, 64, 67, 0.15);\n",
              "      fill: #174EA6;\n",
              "    }\n",
              "\n",
              "    .colab-df-buttons div {\n",
              "      margin-bottom: 4px;\n",
              "    }\n",
              "\n",
              "    [theme=dark] .colab-df-convert {\n",
              "      background-color: #3B4455;\n",
              "      fill: #D2E3FC;\n",
              "    }\n",
              "\n",
              "    [theme=dark] .colab-df-convert:hover {\n",
              "      background-color: #434B5C;\n",
              "      box-shadow: 0px 1px 3px 1px rgba(0, 0, 0, 0.15);\n",
              "      filter: drop-shadow(0px 1px 2px rgba(0, 0, 0, 0.3));\n",
              "      fill: #FFFFFF;\n",
              "    }\n",
              "  </style>\n",
              "\n",
              "    <script>\n",
              "      const buttonEl =\n",
              "        document.querySelector('#df-56815600-df35-4fc6-9f04-0181c66a585b button.colab-df-convert');\n",
              "      buttonEl.style.display =\n",
              "        google.colab.kernel.accessAllowed ? 'block' : 'none';\n",
              "\n",
              "      async function convertToInteractive(key) {\n",
              "        const element = document.querySelector('#df-56815600-df35-4fc6-9f04-0181c66a585b');\n",
              "        const dataTable =\n",
              "          await google.colab.kernel.invokeFunction('convertToInteractive',\n",
              "                                                    [key], {});\n",
              "        if (!dataTable) return;\n",
              "\n",
              "        const docLinkHtml = 'Like what you see? Visit the ' +\n",
              "          '<a target=\"_blank\" href=https://colab.research.google.com/notebooks/data_table.ipynb>data table notebook</a>'\n",
              "          + ' to learn more about interactive tables.';\n",
              "        element.innerHTML = '';\n",
              "        dataTable['output_type'] = 'display_data';\n",
              "        await google.colab.output.renderOutput(dataTable, element);\n",
              "        const docLink = document.createElement('div');\n",
              "        docLink.innerHTML = docLinkHtml;\n",
              "        element.appendChild(docLink);\n",
              "      }\n",
              "    </script>\n",
              "  </div>\n",
              "\n",
              "\n",
              "<div id=\"df-9f5d31a7-2731-4037-b155-b5f0b52a14cd\">\n",
              "  <button class=\"colab-df-quickchart\" onclick=\"quickchart('df-9f5d31a7-2731-4037-b155-b5f0b52a14cd')\"\n",
              "            title=\"Suggest charts\"\n",
              "            style=\"display:none;\">\n",
              "\n",
              "<svg xmlns=\"http://www.w3.org/2000/svg\" height=\"24px\"viewBox=\"0 0 24 24\"\n",
              "     width=\"24px\">\n",
              "    <g>\n",
              "        <path d=\"M19 3H5c-1.1 0-2 .9-2 2v14c0 1.1.9 2 2 2h14c1.1 0 2-.9 2-2V5c0-1.1-.9-2-2-2zM9 17H7v-7h2v7zm4 0h-2V7h2v10zm4 0h-2v-4h2v4z\"/>\n",
              "    </g>\n",
              "</svg>\n",
              "  </button>\n",
              "\n",
              "<style>\n",
              "  .colab-df-quickchart {\n",
              "      --bg-color: #E8F0FE;\n",
              "      --fill-color: #1967D2;\n",
              "      --hover-bg-color: #E2EBFA;\n",
              "      --hover-fill-color: #174EA6;\n",
              "      --disabled-fill-color: #AAA;\n",
              "      --disabled-bg-color: #DDD;\n",
              "  }\n",
              "\n",
              "  [theme=dark] .colab-df-quickchart {\n",
              "      --bg-color: #3B4455;\n",
              "      --fill-color: #D2E3FC;\n",
              "      --hover-bg-color: #434B5C;\n",
              "      --hover-fill-color: #FFFFFF;\n",
              "      --disabled-bg-color: #3B4455;\n",
              "      --disabled-fill-color: #666;\n",
              "  }\n",
              "\n",
              "  .colab-df-quickchart {\n",
              "    background-color: var(--bg-color);\n",
              "    border: none;\n",
              "    border-radius: 50%;\n",
              "    cursor: pointer;\n",
              "    display: none;\n",
              "    fill: var(--fill-color);\n",
              "    height: 32px;\n",
              "    padding: 0;\n",
              "    width: 32px;\n",
              "  }\n",
              "\n",
              "  .colab-df-quickchart:hover {\n",
              "    background-color: var(--hover-bg-color);\n",
              "    box-shadow: 0 1px 2px rgba(60, 64, 67, 0.3), 0 1px 3px 1px rgba(60, 64, 67, 0.15);\n",
              "    fill: var(--button-hover-fill-color);\n",
              "  }\n",
              "\n",
              "  .colab-df-quickchart-complete:disabled,\n",
              "  .colab-df-quickchart-complete:disabled:hover {\n",
              "    background-color: var(--disabled-bg-color);\n",
              "    fill: var(--disabled-fill-color);\n",
              "    box-shadow: none;\n",
              "  }\n",
              "\n",
              "  .colab-df-spinner {\n",
              "    border: 2px solid var(--fill-color);\n",
              "    border-color: transparent;\n",
              "    border-bottom-color: var(--fill-color);\n",
              "    animation:\n",
              "      spin 1s steps(1) infinite;\n",
              "  }\n",
              "\n",
              "  @keyframes spin {\n",
              "    0% {\n",
              "      border-color: transparent;\n",
              "      border-bottom-color: var(--fill-color);\n",
              "      border-left-color: var(--fill-color);\n",
              "    }\n",
              "    20% {\n",
              "      border-color: transparent;\n",
              "      border-left-color: var(--fill-color);\n",
              "      border-top-color: var(--fill-color);\n",
              "    }\n",
              "    30% {\n",
              "      border-color: transparent;\n",
              "      border-left-color: var(--fill-color);\n",
              "      border-top-color: var(--fill-color);\n",
              "      border-right-color: var(--fill-color);\n",
              "    }\n",
              "    40% {\n",
              "      border-color: transparent;\n",
              "      border-right-color: var(--fill-color);\n",
              "      border-top-color: var(--fill-color);\n",
              "    }\n",
              "    60% {\n",
              "      border-color: transparent;\n",
              "      border-right-color: var(--fill-color);\n",
              "    }\n",
              "    80% {\n",
              "      border-color: transparent;\n",
              "      border-right-color: var(--fill-color);\n",
              "      border-bottom-color: var(--fill-color);\n",
              "    }\n",
              "    90% {\n",
              "      border-color: transparent;\n",
              "      border-bottom-color: var(--fill-color);\n",
              "    }\n",
              "  }\n",
              "</style>\n",
              "\n",
              "  <script>\n",
              "    async function quickchart(key) {\n",
              "      const quickchartButtonEl =\n",
              "        document.querySelector('#' + key + ' button');\n",
              "      quickchartButtonEl.disabled = true;  // To prevent multiple clicks.\n",
              "      quickchartButtonEl.classList.add('colab-df-spinner');\n",
              "      try {\n",
              "        const charts = await google.colab.kernel.invokeFunction(\n",
              "            'suggestCharts', [key], {});\n",
              "      } catch (error) {\n",
              "        console.error('Error during call to suggestCharts:', error);\n",
              "      }\n",
              "      quickchartButtonEl.classList.remove('colab-df-spinner');\n",
              "      quickchartButtonEl.classList.add('colab-df-quickchart-complete');\n",
              "    }\n",
              "    (() => {\n",
              "      let quickchartButtonEl =\n",
              "        document.querySelector('#df-9f5d31a7-2731-4037-b155-b5f0b52a14cd button');\n",
              "      quickchartButtonEl.style.display =\n",
              "        google.colab.kernel.accessAllowed ? 'block' : 'none';\n",
              "    })();\n",
              "  </script>\n",
              "</div>\n",
              "    </div>\n",
              "  </div>\n"
            ]
          },
          "metadata": {},
          "execution_count": 4
        }
      ],
      "source": [
        "# Проверим также конец таблицы\n",
        "df.tail()"
      ]
    },
    {
      "cell_type": "code",
      "execution_count": null,
      "metadata": {
        "id": "EUIMXc_jw1_O"
      },
      "outputs": [],
      "source": [
        "# Удалим ненужную колонку\n",
        "df.drop(\"Unnamed: 0\", axis=1, inplace=True)"
      ]
    },
    {
      "cell_type": "code",
      "execution_count": null,
      "metadata": {
        "id": "1eldjzu6w8wu"
      },
      "outputs": [],
      "source": [
        "# Переименуем заголовки колонок\n",
        "df.rename(columns=lambda x: x.replace(\" \", \"_\"), inplace=True)"
      ]
    },
    {
      "cell_type": "code",
      "execution_count": null,
      "metadata": {
        "id": "CP-JnQ8t606Z"
      },
      "outputs": [],
      "source": [
        "# Переконвертируем конверсию\n",
        "df[\"converted\"] = np.where(df[\"converted\"] == True, 1, 0)"
      ]
    },
    {
      "cell_type": "code",
      "execution_count": null,
      "metadata": {
        "id": "tMe3TwsTrxf0",
        "colab": {
          "base_uri": "https://localhost:8080/"
        },
        "outputId": "9b885c37-20ae-4cb9-847f-d32ade124475"
      },
      "outputs": [
        {
          "output_type": "execute_result",
          "data": {
            "text/plain": [
              "(588101, 6)"
            ]
          },
          "metadata": {},
          "execution_count": 8
        }
      ],
      "source": [
        "# Размерность\n",
        "df.shape"
      ]
    },
    {
      "cell_type": "code",
      "execution_count": null,
      "metadata": {
        "colab": {
          "base_uri": "https://localhost:8080/"
        },
        "id": "xanrIfjClvy6",
        "outputId": "a0a84eab-3738-43e6-af1a-3353472c990b"
      },
      "outputs": [
        {
          "output_type": "stream",
          "name": "stdout",
          "text": [
            "<class 'pandas.core.frame.DataFrame'>\n",
            "RangeIndex: 588101 entries, 0 to 588100\n",
            "Data columns (total 6 columns):\n",
            " #   Column         Non-Null Count   Dtype \n",
            "---  ------         --------------   ----- \n",
            " 0   user_id        588101 non-null  int64 \n",
            " 1   test_group     588101 non-null  object\n",
            " 2   converted      588101 non-null  int64 \n",
            " 3   total_ads      588101 non-null  int64 \n",
            " 4   most_ads_day   588101 non-null  object\n",
            " 5   most_ads_hour  588101 non-null  int64 \n",
            "dtypes: int64(4), object(2)\n",
            "memory usage: 26.9+ MB\n"
          ]
        }
      ],
      "source": [
        "# Обобщённая инфо\n",
        "df.info()"
      ]
    },
    {
      "cell_type": "code",
      "execution_count": null,
      "metadata": {
        "colab": {
          "base_uri": "https://localhost:8080/",
          "height": 394
        },
        "id": "PFGq9ohR20_-",
        "outputId": "83b1405d-6c26-4410-91ff-b0a4e4ad8612"
      },
      "outputs": [
        {
          "output_type": "execute_result",
          "data": {
            "text/plain": [
              "             user_id test_group      converted      total_ads most_ads_day  \\\n",
              "count   5.881010e+05     588101  588101.000000  588101.000000       588101   \n",
              "unique           NaN          2            NaN            NaN            7   \n",
              "top              NaN         ad            NaN            NaN       Friday   \n",
              "freq             NaN     564577            NaN            NaN        92608   \n",
              "mean    1.310692e+06        NaN       0.025239      24.820876          NaN   \n",
              "std     2.022260e+05        NaN       0.156850      43.715181          NaN   \n",
              "min     9.000000e+05        NaN       0.000000       1.000000          NaN   \n",
              "25%     1.143190e+06        NaN       0.000000       4.000000          NaN   \n",
              "50%     1.313725e+06        NaN       0.000000      13.000000          NaN   \n",
              "75%     1.484088e+06        NaN       0.000000      27.000000          NaN   \n",
              "max     1.654483e+06        NaN       1.000000    2065.000000          NaN   \n",
              "\n",
              "        most_ads_hour  \n",
              "count   588101.000000  \n",
              "unique            NaN  \n",
              "top               NaN  \n",
              "freq              NaN  \n",
              "mean        14.469061  \n",
              "std          4.834634  \n",
              "min          0.000000  \n",
              "25%         11.000000  \n",
              "50%         14.000000  \n",
              "75%         18.000000  \n",
              "max         23.000000  "
            ],
            "text/html": [
              "\n",
              "  <div id=\"df-c1a1638d-582e-4346-9cda-c77acfd30976\" class=\"colab-df-container\">\n",
              "    <div>\n",
              "<style scoped>\n",
              "    .dataframe tbody tr th:only-of-type {\n",
              "        vertical-align: middle;\n",
              "    }\n",
              "\n",
              "    .dataframe tbody tr th {\n",
              "        vertical-align: top;\n",
              "    }\n",
              "\n",
              "    .dataframe thead th {\n",
              "        text-align: right;\n",
              "    }\n",
              "</style>\n",
              "<table border=\"1\" class=\"dataframe\">\n",
              "  <thead>\n",
              "    <tr style=\"text-align: right;\">\n",
              "      <th></th>\n",
              "      <th>user_id</th>\n",
              "      <th>test_group</th>\n",
              "      <th>converted</th>\n",
              "      <th>total_ads</th>\n",
              "      <th>most_ads_day</th>\n",
              "      <th>most_ads_hour</th>\n",
              "    </tr>\n",
              "  </thead>\n",
              "  <tbody>\n",
              "    <tr>\n",
              "      <th>count</th>\n",
              "      <td>5.881010e+05</td>\n",
              "      <td>588101</td>\n",
              "      <td>588101.000000</td>\n",
              "      <td>588101.000000</td>\n",
              "      <td>588101</td>\n",
              "      <td>588101.000000</td>\n",
              "    </tr>\n",
              "    <tr>\n",
              "      <th>unique</th>\n",
              "      <td>NaN</td>\n",
              "      <td>2</td>\n",
              "      <td>NaN</td>\n",
              "      <td>NaN</td>\n",
              "      <td>7</td>\n",
              "      <td>NaN</td>\n",
              "    </tr>\n",
              "    <tr>\n",
              "      <th>top</th>\n",
              "      <td>NaN</td>\n",
              "      <td>ad</td>\n",
              "      <td>NaN</td>\n",
              "      <td>NaN</td>\n",
              "      <td>Friday</td>\n",
              "      <td>NaN</td>\n",
              "    </tr>\n",
              "    <tr>\n",
              "      <th>freq</th>\n",
              "      <td>NaN</td>\n",
              "      <td>564577</td>\n",
              "      <td>NaN</td>\n",
              "      <td>NaN</td>\n",
              "      <td>92608</td>\n",
              "      <td>NaN</td>\n",
              "    </tr>\n",
              "    <tr>\n",
              "      <th>mean</th>\n",
              "      <td>1.310692e+06</td>\n",
              "      <td>NaN</td>\n",
              "      <td>0.025239</td>\n",
              "      <td>24.820876</td>\n",
              "      <td>NaN</td>\n",
              "      <td>14.469061</td>\n",
              "    </tr>\n",
              "    <tr>\n",
              "      <th>std</th>\n",
              "      <td>2.022260e+05</td>\n",
              "      <td>NaN</td>\n",
              "      <td>0.156850</td>\n",
              "      <td>43.715181</td>\n",
              "      <td>NaN</td>\n",
              "      <td>4.834634</td>\n",
              "    </tr>\n",
              "    <tr>\n",
              "      <th>min</th>\n",
              "      <td>9.000000e+05</td>\n",
              "      <td>NaN</td>\n",
              "      <td>0.000000</td>\n",
              "      <td>1.000000</td>\n",
              "      <td>NaN</td>\n",
              "      <td>0.000000</td>\n",
              "    </tr>\n",
              "    <tr>\n",
              "      <th>25%</th>\n",
              "      <td>1.143190e+06</td>\n",
              "      <td>NaN</td>\n",
              "      <td>0.000000</td>\n",
              "      <td>4.000000</td>\n",
              "      <td>NaN</td>\n",
              "      <td>11.000000</td>\n",
              "    </tr>\n",
              "    <tr>\n",
              "      <th>50%</th>\n",
              "      <td>1.313725e+06</td>\n",
              "      <td>NaN</td>\n",
              "      <td>0.000000</td>\n",
              "      <td>13.000000</td>\n",
              "      <td>NaN</td>\n",
              "      <td>14.000000</td>\n",
              "    </tr>\n",
              "    <tr>\n",
              "      <th>75%</th>\n",
              "      <td>1.484088e+06</td>\n",
              "      <td>NaN</td>\n",
              "      <td>0.000000</td>\n",
              "      <td>27.000000</td>\n",
              "      <td>NaN</td>\n",
              "      <td>18.000000</td>\n",
              "    </tr>\n",
              "    <tr>\n",
              "      <th>max</th>\n",
              "      <td>1.654483e+06</td>\n",
              "      <td>NaN</td>\n",
              "      <td>1.000000</td>\n",
              "      <td>2065.000000</td>\n",
              "      <td>NaN</td>\n",
              "      <td>23.000000</td>\n",
              "    </tr>\n",
              "  </tbody>\n",
              "</table>\n",
              "</div>\n",
              "    <div class=\"colab-df-buttons\">\n",
              "\n",
              "  <div class=\"colab-df-container\">\n",
              "    <button class=\"colab-df-convert\" onclick=\"convertToInteractive('df-c1a1638d-582e-4346-9cda-c77acfd30976')\"\n",
              "            title=\"Convert this dataframe to an interactive table.\"\n",
              "            style=\"display:none;\">\n",
              "\n",
              "  <svg xmlns=\"http://www.w3.org/2000/svg\" height=\"24px\" viewBox=\"0 -960 960 960\">\n",
              "    <path d=\"M120-120v-720h720v720H120Zm60-500h600v-160H180v160Zm220 220h160v-160H400v160Zm0 220h160v-160H400v160ZM180-400h160v-160H180v160Zm440 0h160v-160H620v160ZM180-180h160v-160H180v160Zm440 0h160v-160H620v160Z\"/>\n",
              "  </svg>\n",
              "    </button>\n",
              "\n",
              "  <style>\n",
              "    .colab-df-container {\n",
              "      display:flex;\n",
              "      gap: 12px;\n",
              "    }\n",
              "\n",
              "    .colab-df-convert {\n",
              "      background-color: #E8F0FE;\n",
              "      border: none;\n",
              "      border-radius: 50%;\n",
              "      cursor: pointer;\n",
              "      display: none;\n",
              "      fill: #1967D2;\n",
              "      height: 32px;\n",
              "      padding: 0 0 0 0;\n",
              "      width: 32px;\n",
              "    }\n",
              "\n",
              "    .colab-df-convert:hover {\n",
              "      background-color: #E2EBFA;\n",
              "      box-shadow: 0px 1px 2px rgba(60, 64, 67, 0.3), 0px 1px 3px 1px rgba(60, 64, 67, 0.15);\n",
              "      fill: #174EA6;\n",
              "    }\n",
              "\n",
              "    .colab-df-buttons div {\n",
              "      margin-bottom: 4px;\n",
              "    }\n",
              "\n",
              "    [theme=dark] .colab-df-convert {\n",
              "      background-color: #3B4455;\n",
              "      fill: #D2E3FC;\n",
              "    }\n",
              "\n",
              "    [theme=dark] .colab-df-convert:hover {\n",
              "      background-color: #434B5C;\n",
              "      box-shadow: 0px 1px 3px 1px rgba(0, 0, 0, 0.15);\n",
              "      filter: drop-shadow(0px 1px 2px rgba(0, 0, 0, 0.3));\n",
              "      fill: #FFFFFF;\n",
              "    }\n",
              "  </style>\n",
              "\n",
              "    <script>\n",
              "      const buttonEl =\n",
              "        document.querySelector('#df-c1a1638d-582e-4346-9cda-c77acfd30976 button.colab-df-convert');\n",
              "      buttonEl.style.display =\n",
              "        google.colab.kernel.accessAllowed ? 'block' : 'none';\n",
              "\n",
              "      async function convertToInteractive(key) {\n",
              "        const element = document.querySelector('#df-c1a1638d-582e-4346-9cda-c77acfd30976');\n",
              "        const dataTable =\n",
              "          await google.colab.kernel.invokeFunction('convertToInteractive',\n",
              "                                                    [key], {});\n",
              "        if (!dataTable) return;\n",
              "\n",
              "        const docLinkHtml = 'Like what you see? Visit the ' +\n",
              "          '<a target=\"_blank\" href=https://colab.research.google.com/notebooks/data_table.ipynb>data table notebook</a>'\n",
              "          + ' to learn more about interactive tables.';\n",
              "        element.innerHTML = '';\n",
              "        dataTable['output_type'] = 'display_data';\n",
              "        await google.colab.output.renderOutput(dataTable, element);\n",
              "        const docLink = document.createElement('div');\n",
              "        docLink.innerHTML = docLinkHtml;\n",
              "        element.appendChild(docLink);\n",
              "      }\n",
              "    </script>\n",
              "  </div>\n",
              "\n",
              "\n",
              "<div id=\"df-9ff7b87f-c9a1-4bff-aaa5-8ea2969ee59c\">\n",
              "  <button class=\"colab-df-quickchart\" onclick=\"quickchart('df-9ff7b87f-c9a1-4bff-aaa5-8ea2969ee59c')\"\n",
              "            title=\"Suggest charts\"\n",
              "            style=\"display:none;\">\n",
              "\n",
              "<svg xmlns=\"http://www.w3.org/2000/svg\" height=\"24px\"viewBox=\"0 0 24 24\"\n",
              "     width=\"24px\">\n",
              "    <g>\n",
              "        <path d=\"M19 3H5c-1.1 0-2 .9-2 2v14c0 1.1.9 2 2 2h14c1.1 0 2-.9 2-2V5c0-1.1-.9-2-2-2zM9 17H7v-7h2v7zm4 0h-2V7h2v10zm4 0h-2v-4h2v4z\"/>\n",
              "    </g>\n",
              "</svg>\n",
              "  </button>\n",
              "\n",
              "<style>\n",
              "  .colab-df-quickchart {\n",
              "      --bg-color: #E8F0FE;\n",
              "      --fill-color: #1967D2;\n",
              "      --hover-bg-color: #E2EBFA;\n",
              "      --hover-fill-color: #174EA6;\n",
              "      --disabled-fill-color: #AAA;\n",
              "      --disabled-bg-color: #DDD;\n",
              "  }\n",
              "\n",
              "  [theme=dark] .colab-df-quickchart {\n",
              "      --bg-color: #3B4455;\n",
              "      --fill-color: #D2E3FC;\n",
              "      --hover-bg-color: #434B5C;\n",
              "      --hover-fill-color: #FFFFFF;\n",
              "      --disabled-bg-color: #3B4455;\n",
              "      --disabled-fill-color: #666;\n",
              "  }\n",
              "\n",
              "  .colab-df-quickchart {\n",
              "    background-color: var(--bg-color);\n",
              "    border: none;\n",
              "    border-radius: 50%;\n",
              "    cursor: pointer;\n",
              "    display: none;\n",
              "    fill: var(--fill-color);\n",
              "    height: 32px;\n",
              "    padding: 0;\n",
              "    width: 32px;\n",
              "  }\n",
              "\n",
              "  .colab-df-quickchart:hover {\n",
              "    background-color: var(--hover-bg-color);\n",
              "    box-shadow: 0 1px 2px rgba(60, 64, 67, 0.3), 0 1px 3px 1px rgba(60, 64, 67, 0.15);\n",
              "    fill: var(--button-hover-fill-color);\n",
              "  }\n",
              "\n",
              "  .colab-df-quickchart-complete:disabled,\n",
              "  .colab-df-quickchart-complete:disabled:hover {\n",
              "    background-color: var(--disabled-bg-color);\n",
              "    fill: var(--disabled-fill-color);\n",
              "    box-shadow: none;\n",
              "  }\n",
              "\n",
              "  .colab-df-spinner {\n",
              "    border: 2px solid var(--fill-color);\n",
              "    border-color: transparent;\n",
              "    border-bottom-color: var(--fill-color);\n",
              "    animation:\n",
              "      spin 1s steps(1) infinite;\n",
              "  }\n",
              "\n",
              "  @keyframes spin {\n",
              "    0% {\n",
              "      border-color: transparent;\n",
              "      border-bottom-color: var(--fill-color);\n",
              "      border-left-color: var(--fill-color);\n",
              "    }\n",
              "    20% {\n",
              "      border-color: transparent;\n",
              "      border-left-color: var(--fill-color);\n",
              "      border-top-color: var(--fill-color);\n",
              "    }\n",
              "    30% {\n",
              "      border-color: transparent;\n",
              "      border-left-color: var(--fill-color);\n",
              "      border-top-color: var(--fill-color);\n",
              "      border-right-color: var(--fill-color);\n",
              "    }\n",
              "    40% {\n",
              "      border-color: transparent;\n",
              "      border-right-color: var(--fill-color);\n",
              "      border-top-color: var(--fill-color);\n",
              "    }\n",
              "    60% {\n",
              "      border-color: transparent;\n",
              "      border-right-color: var(--fill-color);\n",
              "    }\n",
              "    80% {\n",
              "      border-color: transparent;\n",
              "      border-right-color: var(--fill-color);\n",
              "      border-bottom-color: var(--fill-color);\n",
              "    }\n",
              "    90% {\n",
              "      border-color: transparent;\n",
              "      border-bottom-color: var(--fill-color);\n",
              "    }\n",
              "  }\n",
              "</style>\n",
              "\n",
              "  <script>\n",
              "    async function quickchart(key) {\n",
              "      const quickchartButtonEl =\n",
              "        document.querySelector('#' + key + ' button');\n",
              "      quickchartButtonEl.disabled = true;  // To prevent multiple clicks.\n",
              "      quickchartButtonEl.classList.add('colab-df-spinner');\n",
              "      try {\n",
              "        const charts = await google.colab.kernel.invokeFunction(\n",
              "            'suggestCharts', [key], {});\n",
              "      } catch (error) {\n",
              "        console.error('Error during call to suggestCharts:', error);\n",
              "      }\n",
              "      quickchartButtonEl.classList.remove('colab-df-spinner');\n",
              "      quickchartButtonEl.classList.add('colab-df-quickchart-complete');\n",
              "    }\n",
              "    (() => {\n",
              "      let quickchartButtonEl =\n",
              "        document.querySelector('#df-9ff7b87f-c9a1-4bff-aaa5-8ea2969ee59c button');\n",
              "      quickchartButtonEl.style.display =\n",
              "        google.colab.kernel.accessAllowed ? 'block' : 'none';\n",
              "    })();\n",
              "  </script>\n",
              "</div>\n",
              "    </div>\n",
              "  </div>\n"
            ]
          },
          "metadata": {},
          "execution_count": 10
        }
      ],
      "source": [
        "df.describe(include=\"all\")"
      ]
    },
    {
      "cell_type": "code",
      "execution_count": null,
      "metadata": {
        "colab": {
          "base_uri": "https://localhost:8080/"
        },
        "id": "sG6DprPhqIr6",
        "outputId": "4a04288e-ebd5-4e7d-abeb-19a6e3a7ce88"
      },
      "outputs": [
        {
          "output_type": "execute_result",
          "data": {
            "text/plain": [
              "user_id          0\n",
              "test_group       0\n",
              "converted        0\n",
              "total_ads        0\n",
              "most_ads_day     0\n",
              "most_ads_hour    0\n",
              "dtype: int64"
            ]
          },
          "metadata": {},
          "execution_count": 11
        }
      ],
      "source": [
        "# Проверка пропусков\n",
        "df.isnull().sum()"
      ]
    },
    {
      "cell_type": "code",
      "execution_count": null,
      "metadata": {
        "colab": {
          "base_uri": "https://localhost:8080/"
        },
        "id": "vQ-dgkQQqNcy",
        "outputId": "bc5a5ef9-8723-4b97-8977-47a0330ab741"
      },
      "outputs": [
        {
          "output_type": "execute_result",
          "data": {
            "text/plain": [
              "0"
            ]
          },
          "metadata": {},
          "execution_count": 12
        }
      ],
      "source": [
        "# Проверка дубликатов\n",
        "df.duplicated().sum()"
      ]
    },
    {
      "cell_type": "code",
      "execution_count": null,
      "metadata": {
        "colab": {
          "base_uri": "https://localhost:8080/"
        },
        "id": "q-mp5jwvzH5C",
        "outputId": "80f9775f-939c-4b33-e16f-4a7da3a2f2a2"
      },
      "outputs": [
        {
          "output_type": "execute_result",
          "data": {
            "text/plain": [
              "0"
            ]
          },
          "metadata": {},
          "execution_count": 13
        }
      ],
      "source": [
        "# Проверка повторов пользователей\n",
        "df.duplicated(subset=[\"user_id\"]).sum()"
      ]
    },
    {
      "cell_type": "markdown",
      "metadata": {
        "id": "v1QME_tlM9_W"
      },
      "source": [
        "**Промежуточный вывод:** Все пользователи были уникальными и в разные группы не входили"
      ]
    },
    {
      "cell_type": "code",
      "execution_count": null,
      "metadata": {
        "colab": {
          "base_uri": "https://localhost:8080/",
          "height": 427
        },
        "id": "hYLz5cAZM9_X",
        "outputId": "359d9eea-47b8-451a-c575-f1ec832062d6"
      },
      "outputs": [
        {
          "output_type": "execute_result",
          "data": {
            "text/plain": [
              "Text(0.5, 0, 'Количество увиденной рекламы')"
            ]
          },
          "metadata": {},
          "execution_count": 14
        },
        {
          "output_type": "display_data",
          "data": {
            "text/plain": [
              "<Figure size 1500x400 with 2 Axes>"
            ],
            "image/png": "[encoded data removed]"
          },
          "metadata": {}
        }
      ],
      "source": [
        "# Визуализируем числовой признак total_ads:\n",
        "fig, axes = plt.subplots(nrows=1, ncols=2, figsize=(15, 4))\n",
        "sns.set(style=\"whitegrid\")\n",
        "\n",
        "histplot = sns.histplot(data=df, x=\"total_ads\", ax=axes[0])\n",
        "histplot.set_title(\"Распределение количества увиденной рекламы\")\n",
        "histplot.set_ylabel(\"Частота\")\n",
        "\n",
        "histplot.set_xlabel(\"Количество увиденной рекламы\")\n",
        "boxplot = sns.boxplot(data=df, x=\"total_ads\", ax=axes[1])\n",
        "boxplot.set_title(\"Оценка выбросов количества увиденной рекламы\")\n",
        "boxplot.set_xlabel(\"Количество увиденной рекламы\")"
      ]
    },
    {
      "cell_type": "code",
      "execution_count": null,
      "metadata": {
        "id": "ii5IL4FTM9_X"
      },
      "outputs": [],
      "source": [
        "# Функция для выявления и удаления выбросов\n",
        "def outliers_iqr(data, feature, left=1.5, right=1.5, log_scale=False):\n",
        "    if log_scale:\n",
        "        x = np.log(data[feature])\n",
        "    else:\n",
        "        x = data[feature]\n",
        "\n",
        "    quartile_1, quartile_3 = (\n",
        "        x.quantile(0.25),\n",
        "        x.quantile(0.75),\n",
        "    )\n",
        "    iqr = quartile_3 - quartile_1\n",
        "    lower_bound = quartile_1 - (iqr * left)\n",
        "    upper_bound = quartile_3 + (iqr * right)\n",
        "    cleaned = data[(x > lower_bound) & (x < upper_bound)]\n",
        "    return cleaned"
      ]
    },
    {
      "cell_type": "code",
      "execution_count": null,
      "metadata": {
        "id": "63sXPA8kM9_Y"
      },
      "outputs": [],
      "source": [
        "# Удалим выбросы справа\n",
        "cleaned_df = outliers_iqr(df, \"total_ads\", 0, 1.5, False)"
      ]
    },
    {
      "cell_type": "code",
      "execution_count": null,
      "metadata": {
        "colab": {
          "base_uri": "https://localhost:8080/",
          "height": 436
        },
        "id": "NPrbKUm1M9_Z",
        "outputId": "d5081a8b-8773-44e0-e6c4-62af52dd6c3a"
      },
      "outputs": [
        {
          "output_type": "execute_result",
          "data": {
            "text/plain": [
              "Text(0.5, 0, 'Количество увиденной рекламы')"
            ]
          },
          "metadata": {},
          "execution_count": 17
        },
        {
          "output_type": "display_data",
          "data": {
            "text/plain": [
              "<Figure size 1500x400 with 2 Axes>"
            ],
            "image/png": "[encoded data removed]"
          },
          "metadata": {}
        }
      ],
      "source": [
        "# Визуализируем числовой признак total_ads в новой таблице:\n",
        "fig, axes = plt.subplots(nrows=1, ncols=2, figsize=(15, 4))\n",
        "\n",
        "histplot = sns.histplot(data=cleaned_df, x=\"total_ads\", ax=axes[0])\n",
        "histplot.set_title(\"Распределение количества увиденной рекламы\")\n",
        "histplot.set_xlabel(\"Количество увиденной рекламы\")\n",
        "histplot.set_ylabel(\"Частота\")\n",
        "\n",
        "boxplot = sns.boxplot(data=cleaned_df, x=\"total_ads\", ax=axes[1])\n",
        "boxplot.set_title(\"Оценка выбросов количества увиденной рекламы\")\n",
        "boxplot.set_xlabel(\"Количество увиденной рекламы\")"
      ]
    },
    {
      "cell_type": "markdown",
      "metadata": {
        "id": "njNf9_i6LdTY"
      },
      "source": [
        "**Промежуточный итог:** В показателе «количество увиденной рекламы» были выявлены и удалены выбросы."
      ]
    },
    {
      "cell_type": "markdown",
      "source": [
        "[↑наверх](#cell-qyni2CjeNBvh)"
      ],
      "metadata": {
        "id": "7my0VYUiPzzp"
      }
    },
    {
      "cell_type": "markdown",
      "metadata": {
        "id": "Qd3qV9E3vM08"
      },
      "source": [
        "# 2. Первичный анализ результатов A/B-теста"
      ]
    },
    {
      "cell_type": "code",
      "execution_count": null,
      "metadata": {
        "colab": {
          "base_uri": "https://localhost:8080/",
          "height": 112
        },
        "id": "_-Q1xrNnn_rl",
        "outputId": "7ef21c80-4706-454e-c0d6-329eee491ab2",
        "scrolled": true
      },
      "outputs": [
        {
          "output_type": "execute_result",
          "data": {
            "text/plain": [
              "  test_group  users_count  total_ads  converted\n",
              "0         ad       372778    7501283       6554\n",
              "1        psa        14746     295268        213"
            ],
            "text/html": [
              "\n",
              "  <div id=\"df-96a432c7-0bc5-45a8-bf63-d3ef3a00f369\" class=\"colab-df-container\">\n",
              "    <div>\n",
              "<style scoped>\n",
              "    .dataframe tbody tr th:only-of-type {\n",
              "        vertical-align: middle;\n",
              "    }\n",
              "\n",
              "    .dataframe tbody tr th {\n",
              "        vertical-align: top;\n",
              "    }\n",
              "\n",
              "    .dataframe thead th {\n",
              "        text-align: right;\n",
              "    }\n",
              "</style>\n",
              "<table border=\"1\" class=\"dataframe\">\n",
              "  <thead>\n",
              "    <tr style=\"text-align: right;\">\n",
              "      <th></th>\n",
              "      <th>test_group</th>\n",
              "      <th>users_count</th>\n",
              "      <th>total_ads</th>\n",
              "      <th>converted</th>\n",
              "    </tr>\n",
              "  </thead>\n",
              "  <tbody>\n",
              "    <tr>\n",
              "      <th>0</th>\n",
              "      <td>ad</td>\n",
              "      <td>372778</td>\n",
              "      <td>7501283</td>\n",
              "      <td>6554</td>\n",
              "    </tr>\n",
              "    <tr>\n",
              "      <th>1</th>\n",
              "      <td>psa</td>\n",
              "      <td>14746</td>\n",
              "      <td>295268</td>\n",
              "      <td>213</td>\n",
              "    </tr>\n",
              "  </tbody>\n",
              "</table>\n",
              "</div>\n",
              "    <div class=\"colab-df-buttons\">\n",
              "\n",
              "  <div class=\"colab-df-container\">\n",
              "    <button class=\"colab-df-convert\" onclick=\"convertToInteractive('df-96a432c7-0bc5-45a8-bf63-d3ef3a00f369')\"\n",
              "            title=\"Convert this dataframe to an interactive table.\"\n",
              "            style=\"display:none;\">\n",
              "\n",
              "  <svg xmlns=\"http://www.w3.org/2000/svg\" height=\"24px\" viewBox=\"0 -960 960 960\">\n",
              "    <path d=\"M120-120v-720h720v720H120Zm60-500h600v-160H180v160Zm220 220h160v-160H400v160Zm0 220h160v-160H400v160ZM180-400h160v-160H180v160Zm440 0h160v-160H620v160ZM180-180h160v-160H180v160Zm440 0h160v-160H620v160Z\"/>\n",
              "  </svg>\n",
              "    </button>\n",
              "\n",
              "  <style>\n",
              "    .colab-df-container {\n",
              "      display:flex;\n",
              "      gap: 12px;\n",
              "    }\n",
              "\n",
              "    .colab-df-convert {\n",
              "      background-color: #E8F0FE;\n",
              "      border: none;\n",
              "      border-radius: 50%;\n",
              "      cursor: pointer;\n",
              "      display: none;\n",
              "      fill: #1967D2;\n",
              "      height: 32px;\n",
              "      padding: 0 0 0 0;\n",
              "      width: 32px;\n",
              "    }\n",
              "\n",
              "    .colab-df-convert:hover {\n",
              "      background-color: #E2EBFA;\n",
              "      box-shadow: 0px 1px 2px rgba(60, 64, 67, 0.3), 0px 1px 3px 1px rgba(60, 64, 67, 0.15);\n",
              "      fill: #174EA6;\n",
              "    }\n",
              "\n",
              "    .colab-df-buttons div {\n",
              "      margin-bottom: 4px;\n",
              "    }\n",
              "\n",
              "    [theme=dark] .colab-df-convert {\n",
              "      background-color: #3B4455;\n",
              "      fill: #D2E3FC;\n",
              "    }\n",
              "\n",
              "    [theme=dark] .colab-df-convert:hover {\n",
              "      background-color: #434B5C;\n",
              "      box-shadow: 0px 1px 3px 1px rgba(0, 0, 0, 0.15);\n",
              "      filter: drop-shadow(0px 1px 2px rgba(0, 0, 0, 0.3));\n",
              "      fill: #FFFFFF;\n",
              "    }\n",
              "  </style>\n",
              "\n",
              "    <script>\n",
              "      const buttonEl =\n",
              "        document.querySelector('#df-96a432c7-0bc5-45a8-bf63-d3ef3a00f369 button.colab-df-convert');\n",
              "      buttonEl.style.display =\n",
              "        google.colab.kernel.accessAllowed ? 'block' : 'none';\n",
              "\n",
              "      async function convertToInteractive(key) {\n",
              "        const element = document.querySelector('#df-96a432c7-0bc5-45a8-bf63-d3ef3a00f369');\n",
              "        const dataTable =\n",
              "          await google.colab.kernel.invokeFunction('convertToInteractive',\n",
              "                                                    [key], {});\n",
              "        if (!dataTable) return;\n",
              "\n",
              "        const docLinkHtml = 'Like what you see? Visit the ' +\n",
              "          '<a target=\"_blank\" href=https://colab.research.google.com/notebooks/data_table.ipynb>data table notebook</a>'\n",
              "          + ' to learn more about interactive tables.';\n",
              "        element.innerHTML = '';\n",
              "        dataTable['output_type'] = 'display_data';\n",
              "        await google.colab.output.renderOutput(dataTable, element);\n",
              "        const docLink = document.createElement('div');\n",
              "        docLink.innerHTML = docLinkHtml;\n",
              "        element.appendChild(docLink);\n",
              "      }\n",
              "    </script>\n",
              "  </div>\n",
              "\n",
              "\n",
              "<div id=\"df-93f0ded0-9f13-4d75-a64a-063484d868f6\">\n",
              "  <button class=\"colab-df-quickchart\" onclick=\"quickchart('df-93f0ded0-9f13-4d75-a64a-063484d868f6')\"\n",
              "            title=\"Suggest charts\"\n",
              "            style=\"display:none;\">\n",
              "\n",
              "<svg xmlns=\"http://www.w3.org/2000/svg\" height=\"24px\"viewBox=\"0 0 24 24\"\n",
              "     width=\"24px\">\n",
              "    <g>\n",
              "        <path d=\"M19 3H5c-1.1 0-2 .9-2 2v14c0 1.1.9 2 2 2h14c1.1 0 2-.9 2-2V5c0-1.1-.9-2-2-2zM9 17H7v-7h2v7zm4 0h-2V7h2v10zm4 0h-2v-4h2v4z\"/>\n",
              "    </g>\n",
              "</svg>\n",
              "  </button>\n",
              "\n",
              "<style>\n",
              "  .colab-df-quickchart {\n",
              "      --bg-color: #E8F0FE;\n",
              "      --fill-color: #1967D2;\n",
              "      --hover-bg-color: #E2EBFA;\n",
              "      --hover-fill-color: #174EA6;\n",
              "      --disabled-fill-color: #AAA;\n",
              "      --disabled-bg-color: #DDD;\n",
              "  }\n",
              "\n",
              "  [theme=dark] .colab-df-quickchart {\n",
              "      --bg-color: #3B4455;\n",
              "      --fill-color: #D2E3FC;\n",
              "      --hover-bg-color: #434B5C;\n",
              "      --hover-fill-color: #FFFFFF;\n",
              "      --disabled-bg-color: #3B4455;\n",
              "      --disabled-fill-color: #666;\n",
              "  }\n",
              "\n",
              "  .colab-df-quickchart {\n",
              "    background-color: var(--bg-color);\n",
              "    border: none;\n",
              "    border-radius: 50%;\n",
              "    cursor: pointer;\n",
              "    display: none;\n",
              "    fill: var(--fill-color);\n",
              "    height: 32px;\n",
              "    padding: 0;\n",
              "    width: 32px;\n",
              "  }\n",
              "\n",
              "  .colab-df-quickchart:hover {\n",
              "    background-color: var(--hover-bg-color);\n",
              "    box-shadow: 0 1px 2px rgba(60, 64, 67, 0.3), 0 1px 3px 1px rgba(60, 64, 67, 0.15);\n",
              "    fill: var(--button-hover-fill-color);\n",
              "  }\n",
              "\n",
              "  .colab-df-quickchart-complete:disabled,\n",
              "  .colab-df-quickchart-complete:disabled:hover {\n",
              "    background-color: var(--disabled-bg-color);\n",
              "    fill: var(--disabled-fill-color);\n",
              "    box-shadow: none;\n",
              "  }\n",
              "\n",
              "  .colab-df-spinner {\n",
              "    border: 2px solid var(--fill-color);\n",
              "    border-color: transparent;\n",
              "    border-bottom-color: var(--fill-color);\n",
              "    animation:\n",
              "      spin 1s steps(1) infinite;\n",
              "  }\n",
              "\n",
              "  @keyframes spin {\n",
              "    0% {\n",
              "      border-color: transparent;\n",
              "      border-bottom-color: var(--fill-color);\n",
              "      border-left-color: var(--fill-color);\n",
              "    }\n",
              "    20% {\n",
              "      border-color: transparent;\n",
              "      border-left-color: var(--fill-color);\n",
              "      border-top-color: var(--fill-color);\n",
              "    }\n",
              "    30% {\n",
              "      border-color: transparent;\n",
              "      border-left-color: var(--fill-color);\n",
              "      border-top-color: var(--fill-color);\n",
              "      border-right-color: var(--fill-color);\n",
              "    }\n",
              "    40% {\n",
              "      border-color: transparent;\n",
              "      border-right-color: var(--fill-color);\n",
              "      border-top-color: var(--fill-color);\n",
              "    }\n",
              "    60% {\n",
              "      border-color: transparent;\n",
              "      border-right-color: var(--fill-color);\n",
              "    }\n",
              "    80% {\n",
              "      border-color: transparent;\n",
              "      border-right-color: var(--fill-color);\n",
              "      border-bottom-color: var(--fill-color);\n",
              "    }\n",
              "    90% {\n",
              "      border-color: transparent;\n",
              "      border-bottom-color: var(--fill-color);\n",
              "    }\n",
              "  }\n",
              "</style>\n",
              "\n",
              "  <script>\n",
              "    async function quickchart(key) {\n",
              "      const quickchartButtonEl =\n",
              "        document.querySelector('#' + key + ' button');\n",
              "      quickchartButtonEl.disabled = true;  // To prevent multiple clicks.\n",
              "      quickchartButtonEl.classList.add('colab-df-spinner');\n",
              "      try {\n",
              "        const charts = await google.colab.kernel.invokeFunction(\n",
              "            'suggestCharts', [key], {});\n",
              "      } catch (error) {\n",
              "        console.error('Error during call to suggestCharts:', error);\n",
              "      }\n",
              "      quickchartButtonEl.classList.remove('colab-df-spinner');\n",
              "      quickchartButtonEl.classList.add('colab-df-quickchart-complete');\n",
              "    }\n",
              "    (() => {\n",
              "      let quickchartButtonEl =\n",
              "        document.querySelector('#df-93f0ded0-9f13-4d75-a64a-063484d868f6 button');\n",
              "      quickchartButtonEl.style.display =\n",
              "        google.colab.kernel.accessAllowed ? 'block' : 'none';\n",
              "    })();\n",
              "  </script>\n",
              "</div>\n",
              "    </div>\n",
              "  </div>\n"
            ]
          },
          "metadata": {},
          "execution_count": 18
        }
      ],
      "source": [
        "# Таблица посетителей сайта и покупок\n",
        "users_data = (\n",
        "    cleaned_df.groupby([\"test_group\"])\n",
        "    .agg({\"user_id\": \"count\", \"total_ads\": \"sum\", \"converted\": \"sum\"})\n",
        "    .reset_index()\n",
        "    .rename(columns={\"user_id\": \"users_count\"})\n",
        ")\n",
        "users_data"
      ]
    },
    {
      "cell_type": "code",
      "execution_count": null,
      "metadata": {
        "colab": {
          "base_uri": "https://localhost:8080/",
          "height": 367
        },
        "id": "0TjwfvUV_ANS",
        "outputId": "859df664-08e2-4baa-f2c2-7057446d7bbc",
        "scrolled": false
      },
      "outputs": [
        {
          "output_type": "display_data",
          "data": {
            "text/plain": [
              "<Figure size 400x400 with 1 Axes>"
            ],
            "image/png": "[encoded data removed]"
          },
          "metadata": {}
        }
      ],
      "source": [
        "# Пайчарт для визуализации структуры групп\n",
        "\n",
        "fig, ax = plt.subplots(figsize=(4, 4), subplot_kw=dict(aspect=\"equal\"))\n",
        "\n",
        "\n",
        "def func(pct, allvals):\n",
        "    absolute = int(np.round(pct / 100.0 * np.sum(allvals)))\n",
        "    return f\"{pct:.1f}%\\n({absolute:d})\"\n",
        "\n",
        "\n",
        "ax = users_data[\"users_count\"].plot.pie(\n",
        "    wedgeprops=dict(width=0.6),\n",
        "    pctdistance=1.35,\n",
        "    labeldistance=0.7,\n",
        "    labels=[\"ad\", \"psa\"],\n",
        "    autopct=lambda pct: func(pct, users_data[\"users_count\"]),\n",
        "    startangle=-20,\n",
        "    colors=[\"turquoise\", \"gold\"],\n",
        ")\n",
        "\n",
        "ax.set_title(\"Соотношение размеров групп\")\n",
        "ax.set_ylabel(\"Группы\")\n",
        "ax.legend(\n",
        "    loc=\"upper right\",\n",
        "    bbox_to_anchor=(1.4, -0.1, 0.5, 1),\n",
        "    labels=[\"Экспериментальная группа\", \"Контрольная группа\"],\n",
        ")\n",
        "plt.show()"
      ]
    },
    {
      "cell_type": "code",
      "execution_count": null,
      "metadata": {
        "colab": {
          "base_uri": "https://localhost:8080/",
          "height": 419
        },
        "id": "TUXrVmiCM9_b",
        "outputId": "f7f20cec-48c9-499e-a05e-221f72e7b1be"
      },
      "outputs": [
        {
          "output_type": "display_data",
          "data": {
            "text/plain": [
              "<Figure size 700x400 with 1 Axes>"
            ],
            "image/png": "[encoded data removed]"
          },
          "metadata": {}
        }
      ],
      "source": [
        "from matplotlib import ticker\n",
        "from matplotlib.ticker import StrMethodFormatter\n",
        "\n",
        "# Визуализация количества уникальных посетителей и конверсии\n",
        "ax = (\n",
        "    cleaned_df.groupby(\"converted\")[\"test_group\"]\n",
        "    .value_counts()\n",
        "    .unstack(\"converted\")\n",
        "    .plot(\n",
        "        kind=\"bar\",\n",
        "        figsize=(7, 4),\n",
        "        stacked=True,\n",
        "        color=[\"turquoise\", \"gold\"],\n",
        "    )\n",
        ")\n",
        "ax.set_title(\"Количество уникальных посетителей и конверсии групп\")\n",
        "ax.set_ylabel(\"Количество уникальных посетителей\")\n",
        "ax.set_xlabel(\"Тестовые группы\")\n",
        "ax.tick_params(rotation=0)\n",
        "ax.legend(loc=\"upper right\")\n",
        "for i in ax.containers:\n",
        "    ax.bar_label(\n",
        "        i, labels=[f\"{x: .0f}\" for x in i.datavalues],\n",
        "        label_type=\"center\", size=8\n",
        "    )\n",
        "ax.yaxis.set_major_formatter(\n",
        "    ticker.FuncFormatter(lambda x, pos: format(x / 1000, \"1.0f\") + \" тыс.\")\n",
        ")\n",
        "ax.legend(labels=[\"Уникальные посетители\", \"Посетители с покупками\"])\n",
        "\n",
        "plt.show()"
      ]
    },
    {
      "cell_type": "markdown",
      "metadata": {
        "id": "hXZafmHIFbjW"
      },
      "source": [
        "**Промежуточный вывод**: рассчитаны вспомогательные показатели для контрольной и тестовой групп (количество уникальных посетителей сайта, количество просмотренной рекламы и суммарное количество совершённых покупок).\n",
        "Согласно рассчётам:\n",
        "*   Количество посещений обоих вариантов посадочной страницы не является сопоставимым\n",
        "*   Выборки не являются сбалансированными"
      ]
    },
    {
      "cell_type": "code",
      "execution_count": null,
      "metadata": {
        "colab": {
          "base_uri": "https://localhost:8080/",
          "height": 112
        },
        "id": "mqvczcT9VJE9",
        "outputId": "5a70d308-f94f-41ad-e3de-e7b6bb3d7245"
      },
      "outputs": [
        {
          "output_type": "execute_result",
          "data": {
            "text/plain": [
              "  test_group    avg_ads  converted  conv_rate\n",
              "0         ad  20.122655   0.017582   1.758151\n",
              "1        psa  20.023600   0.014445   1.444460"
            ],
            "text/html": [
              "\n",
              "  <div id=\"df-41fa5963-ff93-4631-8b50-217ef90b840c\" class=\"colab-df-container\">\n",
              "    <div>\n",
              "<style scoped>\n",
              "    .dataframe tbody tr th:only-of-type {\n",
              "        vertical-align: middle;\n",
              "    }\n",
              "\n",
              "    .dataframe tbody tr th {\n",
              "        vertical-align: top;\n",
              "    }\n",
              "\n",
              "    .dataframe thead th {\n",
              "        text-align: right;\n",
              "    }\n",
              "</style>\n",
              "<table border=\"1\" class=\"dataframe\">\n",
              "  <thead>\n",
              "    <tr style=\"text-align: right;\">\n",
              "      <th></th>\n",
              "      <th>test_group</th>\n",
              "      <th>avg_ads</th>\n",
              "      <th>converted</th>\n",
              "      <th>conv_rate</th>\n",
              "    </tr>\n",
              "  </thead>\n",
              "  <tbody>\n",
              "    <tr>\n",
              "      <th>0</th>\n",
              "      <td>ad</td>\n",
              "      <td>20.122655</td>\n",
              "      <td>0.017582</td>\n",
              "      <td>1.758151</td>\n",
              "    </tr>\n",
              "    <tr>\n",
              "      <th>1</th>\n",
              "      <td>psa</td>\n",
              "      <td>20.023600</td>\n",
              "      <td>0.014445</td>\n",
              "      <td>1.444460</td>\n",
              "    </tr>\n",
              "  </tbody>\n",
              "</table>\n",
              "</div>\n",
              "    <div class=\"colab-df-buttons\">\n",
              "\n",
              "  <div class=\"colab-df-container\">\n",
              "    <button class=\"colab-df-convert\" onclick=\"convertToInteractive('df-41fa5963-ff93-4631-8b50-217ef90b840c')\"\n",
              "            title=\"Convert this dataframe to an interactive table.\"\n",
              "            style=\"display:none;\">\n",
              "\n",
              "  <svg xmlns=\"http://www.w3.org/2000/svg\" height=\"24px\" viewBox=\"0 -960 960 960\">\n",
              "    <path d=\"M120-120v-720h720v720H120Zm60-500h600v-160H180v160Zm220 220h160v-160H400v160Zm0 220h160v-160H400v160ZM180-400h160v-160H180v160Zm440 0h160v-160H620v160ZM180-180h160v-160H180v160Zm440 0h160v-160H620v160Z\"/>\n",
              "  </svg>\n",
              "    </button>\n",
              "\n",
              "  <style>\n",
              "    .colab-df-container {\n",
              "      display:flex;\n",
              "      gap: 12px;\n",
              "    }\n",
              "\n",
              "    .colab-df-convert {\n",
              "      background-color: #E8F0FE;\n",
              "      border: none;\n",
              "      border-radius: 50%;\n",
              "      cursor: pointer;\n",
              "      display: none;\n",
              "      fill: #1967D2;\n",
              "      height: 32px;\n",
              "      padding: 0 0 0 0;\n",
              "      width: 32px;\n",
              "    }\n",
              "\n",
              "    .colab-df-convert:hover {\n",
              "      background-color: #E2EBFA;\n",
              "      box-shadow: 0px 1px 2px rgba(60, 64, 67, 0.3), 0px 1px 3px 1px rgba(60, 64, 67, 0.15);\n",
              "      fill: #174EA6;\n",
              "    }\n",
              "\n",
              "    .colab-df-buttons div {\n",
              "      margin-bottom: 4px;\n",
              "    }\n",
              "\n",
              "    [theme=dark] .colab-df-convert {\n",
              "      background-color: #3B4455;\n",
              "      fill: #D2E3FC;\n",
              "    }\n",
              "\n",
              "    [theme=dark] .colab-df-convert:hover {\n",
              "      background-color: #434B5C;\n",
              "      box-shadow: 0px 1px 3px 1px rgba(0, 0, 0, 0.15);\n",
              "      filter: drop-shadow(0px 1px 2px rgba(0, 0, 0, 0.3));\n",
              "      fill: #FFFFFF;\n",
              "    }\n",
              "  </style>\n",
              "\n",
              "    <script>\n",
              "      const buttonEl =\n",
              "        document.querySelector('#df-41fa5963-ff93-4631-8b50-217ef90b840c button.colab-df-convert');\n",
              "      buttonEl.style.display =\n",
              "        google.colab.kernel.accessAllowed ? 'block' : 'none';\n",
              "\n",
              "      async function convertToInteractive(key) {\n",
              "        const element = document.querySelector('#df-41fa5963-ff93-4631-8b50-217ef90b840c');\n",
              "        const dataTable =\n",
              "          await google.colab.kernel.invokeFunction('convertToInteractive',\n",
              "                                                    [key], {});\n",
              "        if (!dataTable) return;\n",
              "\n",
              "        const docLinkHtml = 'Like what you see? Visit the ' +\n",
              "          '<a target=\"_blank\" href=https://colab.research.google.com/notebooks/data_table.ipynb>data table notebook</a>'\n",
              "          + ' to learn more about interactive tables.';\n",
              "        element.innerHTML = '';\n",
              "        dataTable['output_type'] = 'display_data';\n",
              "        await google.colab.output.renderOutput(dataTable, element);\n",
              "        const docLink = document.createElement('div');\n",
              "        docLink.innerHTML = docLinkHtml;\n",
              "        element.appendChild(docLink);\n",
              "      }\n",
              "    </script>\n",
              "  </div>\n",
              "\n",
              "\n",
              "<div id=\"df-6fa22fcc-19e6-4213-8696-38eadaf11e50\">\n",
              "  <button class=\"colab-df-quickchart\" onclick=\"quickchart('df-6fa22fcc-19e6-4213-8696-38eadaf11e50')\"\n",
              "            title=\"Suggest charts\"\n",
              "            style=\"display:none;\">\n",
              "\n",
              "<svg xmlns=\"http://www.w3.org/2000/svg\" height=\"24px\"viewBox=\"0 0 24 24\"\n",
              "     width=\"24px\">\n",
              "    <g>\n",
              "        <path d=\"M19 3H5c-1.1 0-2 .9-2 2v14c0 1.1.9 2 2 2h14c1.1 0 2-.9 2-2V5c0-1.1-.9-2-2-2zM9 17H7v-7h2v7zm4 0h-2V7h2v10zm4 0h-2v-4h2v4z\"/>\n",
              "    </g>\n",
              "</svg>\n",
              "  </button>\n",
              "\n",
              "<style>\n",
              "  .colab-df-quickchart {\n",
              "      --bg-color: #E8F0FE;\n",
              "      --fill-color: #1967D2;\n",
              "      --hover-bg-color: #E2EBFA;\n",
              "      --hover-fill-color: #174EA6;\n",
              "      --disabled-fill-color: #AAA;\n",
              "      --disabled-bg-color: #DDD;\n",
              "  }\n",
              "\n",
              "  [theme=dark] .colab-df-quickchart {\n",
              "      --bg-color: #3B4455;\n",
              "      --fill-color: #D2E3FC;\n",
              "      --hover-bg-color: #434B5C;\n",
              "      --hover-fill-color: #FFFFFF;\n",
              "      --disabled-bg-color: #3B4455;\n",
              "      --disabled-fill-color: #666;\n",
              "  }\n",
              "\n",
              "  .colab-df-quickchart {\n",
              "    background-color: var(--bg-color);\n",
              "    border: none;\n",
              "    border-radius: 50%;\n",
              "    cursor: pointer;\n",
              "    display: none;\n",
              "    fill: var(--fill-color);\n",
              "    height: 32px;\n",
              "    padding: 0;\n",
              "    width: 32px;\n",
              "  }\n",
              "\n",
              "  .colab-df-quickchart:hover {\n",
              "    background-color: var(--hover-bg-color);\n",
              "    box-shadow: 0 1px 2px rgba(60, 64, 67, 0.3), 0 1px 3px 1px rgba(60, 64, 67, 0.15);\n",
              "    fill: var(--button-hover-fill-color);\n",
              "  }\n",
              "\n",
              "  .colab-df-quickchart-complete:disabled,\n",
              "  .colab-df-quickchart-complete:disabled:hover {\n",
              "    background-color: var(--disabled-bg-color);\n",
              "    fill: var(--disabled-fill-color);\n",
              "    box-shadow: none;\n",
              "  }\n",
              "\n",
              "  .colab-df-spinner {\n",
              "    border: 2px solid var(--fill-color);\n",
              "    border-color: transparent;\n",
              "    border-bottom-color: var(--fill-color);\n",
              "    animation:\n",
              "      spin 1s steps(1) infinite;\n",
              "  }\n",
              "\n",
              "  @keyframes spin {\n",
              "    0% {\n",
              "      border-color: transparent;\n",
              "      border-bottom-color: var(--fill-color);\n",
              "      border-left-color: var(--fill-color);\n",
              "    }\n",
              "    20% {\n",
              "      border-color: transparent;\n",
              "      border-left-color: var(--fill-color);\n",
              "      border-top-color: var(--fill-color);\n",
              "    }\n",
              "    30% {\n",
              "      border-color: transparent;\n",
              "      border-left-color: var(--fill-color);\n",
              "      border-top-color: var(--fill-color);\n",
              "      border-right-color: var(--fill-color);\n",
              "    }\n",
              "    40% {\n",
              "      border-color: transparent;\n",
              "      border-right-color: var(--fill-color);\n",
              "      border-top-color: var(--fill-color);\n",
              "    }\n",
              "    60% {\n",
              "      border-color: transparent;\n",
              "      border-right-color: var(--fill-color);\n",
              "    }\n",
              "    80% {\n",
              "      border-color: transparent;\n",
              "      border-right-color: var(--fill-color);\n",
              "      border-bottom-color: var(--fill-color);\n",
              "    }\n",
              "    90% {\n",
              "      border-color: transparent;\n",
              "      border-bottom-color: var(--fill-color);\n",
              "    }\n",
              "  }\n",
              "</style>\n",
              "\n",
              "  <script>\n",
              "    async function quickchart(key) {\n",
              "      const quickchartButtonEl =\n",
              "        document.querySelector('#' + key + ' button');\n",
              "      quickchartButtonEl.disabled = true;  // To prevent multiple clicks.\n",
              "      quickchartButtonEl.classList.add('colab-df-spinner');\n",
              "      try {\n",
              "        const charts = await google.colab.kernel.invokeFunction(\n",
              "            'suggestCharts', [key], {});\n",
              "      } catch (error) {\n",
              "        console.error('Error during call to suggestCharts:', error);\n",
              "      }\n",
              "      quickchartButtonEl.classList.remove('colab-df-spinner');\n",
              "      quickchartButtonEl.classList.add('colab-df-quickchart-complete');\n",
              "    }\n",
              "    (() => {\n",
              "      let quickchartButtonEl =\n",
              "        document.querySelector('#df-6fa22fcc-19e6-4213-8696-38eadaf11e50 button');\n",
              "      quickchartButtonEl.style.display =\n",
              "        google.colab.kernel.accessAllowed ? 'block' : 'none';\n",
              "    })();\n",
              "  </script>\n",
              "</div>\n",
              "    </div>\n",
              "  </div>\n"
            ]
          },
          "metadata": {},
          "execution_count": 24
        }
      ],
      "source": [
        "# Таблица среднего количества увиденной рекламы и конверсии\n",
        "ads_data = users_data[\n",
        "    [\n",
        "        \"test_group\",\n",
        "    ]\n",
        "].copy()\n",
        "ads_data[\"avg_ads\"] = users_data[\"total_ads\"] / users_data[\"users_count\"]\n",
        "ads_data[\"converted\"] = users_data[\"converted\"] / users_data[\"users_count\"]\n",
        "ads_data[\"conv_rate\"] = users_data[\"converted\"] / users_data[\"users_count\"] * 100\n",
        "ads_data.head()"
      ]
    },
    {
      "cell_type": "code",
      "execution_count": null,
      "metadata": {
        "colab": {
          "base_uri": "https://localhost:8080/"
        },
        "id": "MqVfQJtIM9_c",
        "outputId": "e7b7338e-dc9f-4be9-8333-54fc8b1b701f"
      },
      "outputs": [
        {
          "output_type": "stream",
          "name": "stdout",
          "text": [
            "Арифметическая разница конверсий 0.3137\n"
          ]
        }
      ],
      "source": [
        "print(\n",
        "    \"Арифметическая разница конверсий %.4f\"\n",
        "    % (ads_data[\"conv_rate\"].iloc[0] - ads_data[\"conv_rate\"].iloc[1])\n",
        ")"
      ]
    },
    {
      "cell_type": "markdown",
      "metadata": {
        "id": "p64ZHDOB4Djn"
      },
      "source": [
        "**Промежуточный вывод:** в каждой из групп рассчитаны ключевые показатели (среднее количество увиденной рекламы и конверсия). На основе этих данных:\n",
        "*   Конверсия экспериментальной группы («ad»), несколько выше чем в контрольной группе («psa»)\n",
        "*   Среднее количество увиденной рекламы в обеих группах примерно одинаковое\n",
        "\n",
        "Таким образом, на первый взгляд, можно предположить, что при почти одинаковом среднем количестве увиденной рекламы, по показателю конверсии рекламная кампания в группе «ad» эффективнее, чем в группе «psa»."
      ]
    },
    {
      "cell_type": "markdown",
      "source": [
        "[↑наверх](#cell-qyni2CjeNBvh)"
      ],
      "metadata": {
        "id": "YxsSTlm0P1sR"
      }
    },
    {
      "cell_type": "markdown",
      "metadata": {
        "id": "0aDP5--wa1GL"
      },
      "source": [
        "# 3. Статистические тесты для анализа результатов A/B-теста"
      ]
    },
    {
      "cell_type": "markdown",
      "metadata": {
        "id": "Q68UnkgdJqnJ"
      },
      "source": [
        "## 3.1. Конверсия"
      ]
    },
    {
      "cell_type": "markdown",
      "metadata": {
        "id": "_EwWhw8EeGKn"
      },
      "source": [
        "Поскольку нас интересует успешность рекламной кампании, относительно конверсии будем формулировать следующие гипотезы:\n",
        "\n",
        "*   $H_0:$ конверсия в группе рекламы (ad) равна или меньше конверсии в группе объявления госслужбы (psa)\n",
        "*   $H_1:$ конверсия в группе рекламы (ad) выше конвесии в группе объявления госслужбы (psa)\n"
      ]
    },
    {
      "cell_type": "code",
      "execution_count": null,
      "metadata": {
        "colab": {
          "base_uri": "https://localhost:8080/",
          "height": 143
        },
        "id": "xzGEXA3KGa27",
        "outputId": "40cd17ec-9151-4024-d3b3-4b7110ec50b5"
      },
      "outputs": [
        {
          "output_type": "execute_result",
          "data": {
            "text/plain": [
              "             sum   count\n",
              "test_group              \n",
              "ad          6554  372778\n",
              "psa          213   14746"
            ],
            "text/html": [
              "\n",
              "  <div id=\"df-5bd388cc-0ccd-4974-b3c3-be7152780fca\" class=\"colab-df-container\">\n",
              "    <div>\n",
              "<style scoped>\n",
              "    .dataframe tbody tr th:only-of-type {\n",
              "        vertical-align: middle;\n",
              "    }\n",
              "\n",
              "    .dataframe tbody tr th {\n",
              "        vertical-align: top;\n",
              "    }\n",
              "\n",
              "    .dataframe thead th {\n",
              "        text-align: right;\n",
              "    }\n",
              "</style>\n",
              "<table border=\"1\" class=\"dataframe\">\n",
              "  <thead>\n",
              "    <tr style=\"text-align: right;\">\n",
              "      <th></th>\n",
              "      <th>sum</th>\n",
              "      <th>count</th>\n",
              "    </tr>\n",
              "    <tr>\n",
              "      <th>test_group</th>\n",
              "      <th></th>\n",
              "      <th></th>\n",
              "    </tr>\n",
              "  </thead>\n",
              "  <tbody>\n",
              "    <tr>\n",
              "      <th>ad</th>\n",
              "      <td>6554</td>\n",
              "      <td>372778</td>\n",
              "    </tr>\n",
              "    <tr>\n",
              "      <th>psa</th>\n",
              "      <td>213</td>\n",
              "      <td>14746</td>\n",
              "    </tr>\n",
              "  </tbody>\n",
              "</table>\n",
              "</div>\n",
              "    <div class=\"colab-df-buttons\">\n",
              "\n",
              "  <div class=\"colab-df-container\">\n",
              "    <button class=\"colab-df-convert\" onclick=\"convertToInteractive('df-5bd388cc-0ccd-4974-b3c3-be7152780fca')\"\n",
              "            title=\"Convert this dataframe to an interactive table.\"\n",
              "            style=\"display:none;\">\n",
              "\n",
              "  <svg xmlns=\"http://www.w3.org/2000/svg\" height=\"24px\" viewBox=\"0 -960 960 960\">\n",
              "    <path d=\"M120-120v-720h720v720H120Zm60-500h600v-160H180v160Zm220 220h160v-160H400v160Zm0 220h160v-160H400v160ZM180-400h160v-160H180v160Zm440 0h160v-160H620v160ZM180-180h160v-160H180v160Zm440 0h160v-160H620v160Z\"/>\n",
              "  </svg>\n",
              "    </button>\n",
              "\n",
              "  <style>\n",
              "    .colab-df-container {\n",
              "      display:flex;\n",
              "      gap: 12px;\n",
              "    }\n",
              "\n",
              "    .colab-df-convert {\n",
              "      background-color: #E8F0FE;\n",
              "      border: none;\n",
              "      border-radius: 50%;\n",
              "      cursor: pointer;\n",
              "      display: none;\n",
              "      fill: #1967D2;\n",
              "      height: 32px;\n",
              "      padding: 0 0 0 0;\n",
              "      width: 32px;\n",
              "    }\n",
              "\n",
              "    .colab-df-convert:hover {\n",
              "      background-color: #E2EBFA;\n",
              "      box-shadow: 0px 1px 2px rgba(60, 64, 67, 0.3), 0px 1px 3px 1px rgba(60, 64, 67, 0.15);\n",
              "      fill: #174EA6;\n",
              "    }\n",
              "\n",
              "    .colab-df-buttons div {\n",
              "      margin-bottom: 4px;\n",
              "    }\n",
              "\n",
              "    [theme=dark] .colab-df-convert {\n",
              "      background-color: #3B4455;\n",
              "      fill: #D2E3FC;\n",
              "    }\n",
              "\n",
              "    [theme=dark] .colab-df-convert:hover {\n",
              "      background-color: #434B5C;\n",
              "      box-shadow: 0px 1px 3px 1px rgba(0, 0, 0, 0.15);\n",
              "      filter: drop-shadow(0px 1px 2px rgba(0, 0, 0, 0.3));\n",
              "      fill: #FFFFFF;\n",
              "    }\n",
              "  </style>\n",
              "\n",
              "    <script>\n",
              "      const buttonEl =\n",
              "        document.querySelector('#df-5bd388cc-0ccd-4974-b3c3-be7152780fca button.colab-df-convert');\n",
              "      buttonEl.style.display =\n",
              "        google.colab.kernel.accessAllowed ? 'block' : 'none';\n",
              "\n",
              "      async function convertToInteractive(key) {\n",
              "        const element = document.querySelector('#df-5bd388cc-0ccd-4974-b3c3-be7152780fca');\n",
              "        const dataTable =\n",
              "          await google.colab.kernel.invokeFunction('convertToInteractive',\n",
              "                                                    [key], {});\n",
              "        if (!dataTable) return;\n",
              "\n",
              "        const docLinkHtml = 'Like what you see? Visit the ' +\n",
              "          '<a target=\"_blank\" href=https://colab.research.google.com/notebooks/data_table.ipynb>data table notebook</a>'\n",
              "          + ' to learn more about interactive tables.';\n",
              "        element.innerHTML = '';\n",
              "        dataTable['output_type'] = 'display_data';\n",
              "        await google.colab.output.renderOutput(dataTable, element);\n",
              "        const docLink = document.createElement('div');\n",
              "        docLink.innerHTML = docLinkHtml;\n",
              "        element.appendChild(docLink);\n",
              "      }\n",
              "    </script>\n",
              "  </div>\n",
              "\n",
              "\n",
              "<div id=\"df-3f716bae-766e-4ced-a42c-0d6459f55f00\">\n",
              "  <button class=\"colab-df-quickchart\" onclick=\"quickchart('df-3f716bae-766e-4ced-a42c-0d6459f55f00')\"\n",
              "            title=\"Suggest charts\"\n",
              "            style=\"display:none;\">\n",
              "\n",
              "<svg xmlns=\"http://www.w3.org/2000/svg\" height=\"24px\"viewBox=\"0 0 24 24\"\n",
              "     width=\"24px\">\n",
              "    <g>\n",
              "        <path d=\"M19 3H5c-1.1 0-2 .9-2 2v14c0 1.1.9 2 2 2h14c1.1 0 2-.9 2-2V5c0-1.1-.9-2-2-2zM9 17H7v-7h2v7zm4 0h-2V7h2v10zm4 0h-2v-4h2v4z\"/>\n",
              "    </g>\n",
              "</svg>\n",
              "  </button>\n",
              "\n",
              "<style>\n",
              "  .colab-df-quickchart {\n",
              "      --bg-color: #E8F0FE;\n",
              "      --fill-color: #1967D2;\n",
              "      --hover-bg-color: #E2EBFA;\n",
              "      --hover-fill-color: #174EA6;\n",
              "      --disabled-fill-color: #AAA;\n",
              "      --disabled-bg-color: #DDD;\n",
              "  }\n",
              "\n",
              "  [theme=dark] .colab-df-quickchart {\n",
              "      --bg-color: #3B4455;\n",
              "      --fill-color: #D2E3FC;\n",
              "      --hover-bg-color: #434B5C;\n",
              "      --hover-fill-color: #FFFFFF;\n",
              "      --disabled-bg-color: #3B4455;\n",
              "      --disabled-fill-color: #666;\n",
              "  }\n",
              "\n",
              "  .colab-df-quickchart {\n",
              "    background-color: var(--bg-color);\n",
              "    border: none;\n",
              "    border-radius: 50%;\n",
              "    cursor: pointer;\n",
              "    display: none;\n",
              "    fill: var(--fill-color);\n",
              "    height: 32px;\n",
              "    padding: 0;\n",
              "    width: 32px;\n",
              "  }\n",
              "\n",
              "  .colab-df-quickchart:hover {\n",
              "    background-color: var(--hover-bg-color);\n",
              "    box-shadow: 0 1px 2px rgba(60, 64, 67, 0.3), 0 1px 3px 1px rgba(60, 64, 67, 0.15);\n",
              "    fill: var(--button-hover-fill-color);\n",
              "  }\n",
              "\n",
              "  .colab-df-quickchart-complete:disabled,\n",
              "  .colab-df-quickchart-complete:disabled:hover {\n",
              "    background-color: var(--disabled-bg-color);\n",
              "    fill: var(--disabled-fill-color);\n",
              "    box-shadow: none;\n",
              "  }\n",
              "\n",
              "  .colab-df-spinner {\n",
              "    border: 2px solid var(--fill-color);\n",
              "    border-color: transparent;\n",
              "    border-bottom-color: var(--fill-color);\n",
              "    animation:\n",
              "      spin 1s steps(1) infinite;\n",
              "  }\n",
              "\n",
              "  @keyframes spin {\n",
              "    0% {\n",
              "      border-color: transparent;\n",
              "      border-bottom-color: var(--fill-color);\n",
              "      border-left-color: var(--fill-color);\n",
              "    }\n",
              "    20% {\n",
              "      border-color: transparent;\n",
              "      border-left-color: var(--fill-color);\n",
              "      border-top-color: var(--fill-color);\n",
              "    }\n",
              "    30% {\n",
              "      border-color: transparent;\n",
              "      border-left-color: var(--fill-color);\n",
              "      border-top-color: var(--fill-color);\n",
              "      border-right-color: var(--fill-color);\n",
              "    }\n",
              "    40% {\n",
              "      border-color: transparent;\n",
              "      border-right-color: var(--fill-color);\n",
              "      border-top-color: var(--fill-color);\n",
              "    }\n",
              "    60% {\n",
              "      border-color: transparent;\n",
              "      border-right-color: var(--fill-color);\n",
              "    }\n",
              "    80% {\n",
              "      border-color: transparent;\n",
              "      border-right-color: var(--fill-color);\n",
              "      border-bottom-color: var(--fill-color);\n",
              "    }\n",
              "    90% {\n",
              "      border-color: transparent;\n",
              "      border-bottom-color: var(--fill-color);\n",
              "    }\n",
              "  }\n",
              "</style>\n",
              "\n",
              "  <script>\n",
              "    async function quickchart(key) {\n",
              "      const quickchartButtonEl =\n",
              "        document.querySelector('#' + key + ' button');\n",
              "      quickchartButtonEl.disabled = true;  // To prevent multiple clicks.\n",
              "      quickchartButtonEl.classList.add('colab-df-spinner');\n",
              "      try {\n",
              "        const charts = await google.colab.kernel.invokeFunction(\n",
              "            'suggestCharts', [key], {});\n",
              "      } catch (error) {\n",
              "        console.error('Error during call to suggestCharts:', error);\n",
              "      }\n",
              "      quickchartButtonEl.classList.remove('colab-df-spinner');\n",
              "      quickchartButtonEl.classList.add('colab-df-quickchart-complete');\n",
              "    }\n",
              "    (() => {\n",
              "      let quickchartButtonEl =\n",
              "        document.querySelector('#df-3f716bae-766e-4ced-a42c-0d6459f55f00 button');\n",
              "      quickchartButtonEl.style.display =\n",
              "        google.colab.kernel.accessAllowed ? 'block' : 'none';\n",
              "    })();\n",
              "  </script>\n",
              "</div>\n",
              "    </div>\n",
              "  </div>\n"
            ]
          },
          "metadata": {},
          "execution_count": 27
        }
      ],
      "source": [
        "# Таблица конверсий и уникальных пользователей для каждой группы:\n",
        "converted_piv = cleaned_df.groupby(\"test_group\")[\"converted\"].agg([\"sum\", \"count\"])\n",
        "converted_piv"
      ]
    },
    {
      "cell_type": "code",
      "execution_count": null,
      "metadata": {
        "colab": {
          "base_uri": "https://localhost:8080/"
        },
        "id": "tHonEAHkHuYI",
        "outputId": "62afd619-37e7-4021-fba6-6b5d8d91a327"
      },
      "outputs": [
        {
          "output_type": "stream",
          "name": "stdout",
          "text": [
            "Статистика: 2.8523, p-value: 0.0022\n",
            "Отвергаем нулевую гипотезу в пользу альтернативной\n"
          ]
        }
      ],
      "source": [
        "# Применим Z-тест для пропорций\n",
        "from statsmodels.stats.proportion import proportions_ztest\n",
        "\n",
        "alpha = 0.05  # уровень значимости\n",
        "# вычисляем значение p-value для z-теста для пропорций\n",
        "test_stat, p_value = proportions_ztest(\n",
        "    count=converted_piv[\"sum\"],  # число конверсий\n",
        "    nobs=converted_piv[\"count\"],  # количество уникальных пользователей\n",
        "    alternative=\"larger\",\n",
        ")\n",
        "# выводим результат на экран\n",
        "print(\"Статистика: %.4f, p-value: %.4f\" % (test_stat, p_value))\n",
        "# сравниваем полученное p-value с уровнем значимости\n",
        "if p_value <= alpha:\n",
        "    print(\"Отвергаем нулевую гипотезу в пользу альтернативной\")\n",
        "else:\n",
        "    print(\"У нас нет оснований отвергнуть нулевую гипотезу\")"
      ]
    },
    {
      "cell_type": "markdown",
      "metadata": {
        "id": "CKLZCWZjJCEH"
      },
      "source": [
        "**Промежуточный итог:** Согласно выполненному статистическому тесту, конверсия в группе рекламы (ad) выше, чем в группе объявления госслужбы (psa). Разница является статистически значимой."
      ]
    },
    {
      "cell_type": "markdown",
      "metadata": {
        "id": "56DcSBQiJ1-Z"
      },
      "source": [
        "## 3.2. Cреднее количество увиденной рекламы"
      ]
    },
    {
      "cell_type": "markdown",
      "metadata": {
        "id": "C8vNz-maKDAg"
      },
      "source": [
        "Сформулируем гипотезу\n",
        "*   $H_0:$ Среднее количество увиденной рекламы в группе «ad» и в группе «psa» одинаково\n",
        "*   $H_1:$ Среднее количество увиденной рекламы в группе «ad» и в группе «psa» имеет различия\n"
      ]
    },
    {
      "cell_type": "code",
      "execution_count": null,
      "metadata": {
        "id": "Qb3J-2D3lMsS"
      },
      "outputs": [],
      "source": [
        "# Разделим группы\n",
        "df_ad = cleaned_df.loc[df[\"test_group\"] == \"ad\"].reset_index(drop=True)\n",
        "df_psa = cleaned_df.loc[df[\"test_group\"] == \"psa\"].reset_index(drop=True)"
      ]
    },
    {
      "cell_type": "code",
      "execution_count": null,
      "metadata": {
        "colab": {
          "base_uri": "https://localhost:8080/"
        },
        "id": "NPdtiFx44zfW",
        "outputId": "2a436c3f-a314-4e6f-ca90-53d00bb56058",
        "scrolled": true
      },
      "outputs": [
        {
          "output_type": "stream",
          "name": "stdout",
          "text": [
            "Группа «ad», тест Колмогорова-Смирнова: cтатистика 1.0000, p-value 0.0000\n",
            "Распределение: не нормальное\n",
            "\n",
            "Группа «psa», тест Колмогорова-Смирнова: cтатистика 1.0000, p-value 0.0000\n",
            "Распределение: не нормальное\n",
            "\n"
          ]
        }
      ],
      "source": [
        "# Поскольку размер выборки >5000, тест Шапиро-Уилка будет неточным,\n",
        "# поэтому выполним тест Колмогорова-Смирнова\n",
        "from scipy.stats import kstest\n",
        "\n",
        "\n",
        "def kstest_perform(data):\n",
        "    test_result = kstest(data, \"norm\")\n",
        "    output = \"тест Колмогорова-Смирнова: \"\n",
        "    output += \"cтатистика %.4f, p-value %.4f\" % test_result\n",
        "    output += \"\\nРаспределение: \"\n",
        "    output += f\"{'нормальное' if test_result[1] > 0.05 else 'не нормальное'}\\n\"\n",
        "    return output\n",
        "\n",
        "\n",
        "# Проверка на нормальное распределение количества увиденной рекламы группы «ad»\n",
        "print(\"Группа «ad»,\", kstest_perform(df_ad[\"total_ads\"]))\n",
        "\n",
        "# Проверка на нормальное распределение количества увиденной рекламы группы «psa»\n",
        "print(\"Группа «psa»,\", kstest_perform(df_psa[\"total_ads\"]))"
      ]
    },
    {
      "cell_type": "code",
      "execution_count": null,
      "metadata": {
        "colab": {
          "base_uri": "https://localhost:8080/",
          "height": 601
        },
        "id": "5oBksnAtkYfJ",
        "outputId": "89275772-787b-46e8-8b8c-a9e1a0f385dc"
      },
      "outputs": [
        {
          "output_type": "display_data",
          "data": {
            "text/plain": [
              "<Figure size 800x600 with 4 Axes>"
            ],
            "image/png": "[encoded data removed]"
          },
          "metadata": {}
        }
      ],
      "source": [
        "# Построим QQ-plots\n",
        "from scipy.stats import probplot\n",
        "\n",
        "plt.figure(figsize=[8, 6])\n",
        "plt.subplot(2, 2, 1)\n",
        "probplot(df_ad[\"total_ads\"], dist=\"norm\", plot=plt)\n",
        "plt.subplot(2, 2, 2)\n",
        "histplot_ad = sns.histplot(df_ad[\"total_ads\"], bins=50, kde=True, color=\"turquoise\")\n",
        "histplot_ad.set_title(\"Распределение в «ad»\")\n",
        "histplot_ad.set_xlabel(\"Количество увиденной рекламы\")\n",
        "plt.subplot(2, 2, 3)\n",
        "probplot(df_psa[\"total_ads\"], dist=\"norm\", plot=plt)\n",
        "plt.subplot(2, 2, 4)\n",
        "histplot_psa = sns.histplot(df_psa[\"total_ads\"], bins=50, kde=True, color=\"gold\")\n",
        "histplot_psa.set_title(\"Распределение в «psa»\")\n",
        "histplot_psa.set_xlabel(\"Количество увиденной рекламы\")\n",
        "\n",
        "\n",
        "plt.tight_layout()\n",
        "plt.show()"
      ]
    },
    {
      "cell_type": "markdown",
      "metadata": {
        "id": "UyY1G2wcPhru"
      },
      "source": [
        "**Промежуточный итог:** Распределение количества увиденной рекламы в обеих группах не подчиняется закону нормального распределения. Таким образом, мы не можем использовать статистические критерии для нормального распределения. Рассмотрим меру центральной тенденции и интервальную оценку для данных, распределение которых отлично от нормального (Me [Q1-Q3])."
      ]
    },
    {
      "cell_type": "code",
      "execution_count": null,
      "metadata": {
        "scrolled": true,
        "colab": {
          "base_uri": "https://localhost:8080/"
        },
        "id": "uSf-rujWM9_i",
        "outputId": "f929fb41-71b7-4976-c8a3-175c8dab8724"
      },
      "outputs": [
        {
          "output_type": "stream",
          "name": "stdout",
          "text": [
            "Количество увиденной рекламы в группе «ad»: 16.00 [9.00-27.00]\n",
            "Количество увиденной рекламы в группе «psa»: 17.00 [8.00-26.00]\n"
          ]
        }
      ],
      "source": [
        "print(\n",
        "    \"Количество увиденной рекламы в группе «ad»: %.2f [%.2f-%.2f]\"\n",
        "    % (\n",
        "        df_ad[\"total_ads\"].median(),\n",
        "        df_ad[\"total_ads\"].quantile(0.25),\n",
        "        df_ad[\"total_ads\"].quantile(0.75),\n",
        "    )\n",
        ")\n",
        "print(\n",
        "    \"Количество увиденной рекламы в группе «psa»: %.2f [%.2f-%.2f]\"\n",
        "    % (\n",
        "        df_psa[\"total_ads\"].median(),\n",
        "        df_psa[\"total_ads\"].quantile(0.25),\n",
        "        df_psa[\"total_ads\"].quantile(0.75),\n",
        "    )\n",
        ")"
      ]
    },
    {
      "cell_type": "code",
      "execution_count": null,
      "metadata": {
        "colab": {
          "base_uri": "https://localhost:8080/",
          "height": 411
        },
        "id": "aM960VGmM9_i",
        "outputId": "037af165-6cc1-45bf-fb02-bb68e2a48430"
      },
      "outputs": [
        {
          "output_type": "display_data",
          "data": {
            "text/plain": [
              "<Figure size 800x300 with 1 Axes>"
            ],
            "image/png": "[encoded data removed]"
          },
          "metadata": {}
        }
      ],
      "source": [
        "# Сравнение количества увиденной рекламы группах\n",
        "fig = plt.figure(figsize=(8, 3))\n",
        "ax = fig.add_axes([1, 1, 1, 1])\n",
        "sns.boxplot(\n",
        "    data=cleaned_df, x=\"total_ads\", y=\"test_group\", ax=ax, palette=[\"turquoise\", \"gold\"]\n",
        ")\n",
        "ax.set_title(\"Сравнение количества увиденной рекламы группах\")\n",
        "ax.set_ylabel(\"Тестовые группы\")\n",
        "ax.set_xlabel(\"Количество увиденной рекламы\")\n",
        "ax.grid(True)"
      ]
    },
    {
      "cell_type": "markdown",
      "metadata": {
        "id": "F8Aj1BrIM9_i"
      },
      "source": [
        "Применим непараметрический тест для сравнения двух независимых выборок, сформулировав для этого соответствующие гипотезы:\n",
        "\n",
        "*   $H_0:$ Распределение лежащее в основе количества увиденной рекламы в группе «ad» и в группе «psa» идентично\n",
        "*   $H_1:$ Распределение лежащее в основе количества увиденной рекламы в группе «ad» и в группе «psa» имеет различия"
      ]
    },
    {
      "cell_type": "code",
      "execution_count": null,
      "metadata": {
        "colab": {
          "base_uri": "https://localhost:8080/"
        },
        "id": "fCtB0dW4-vT-",
        "outputId": "442c6d94-4fff-40fc-bffd-d2d006a6432f",
        "scrolled": true
      },
      "outputs": [
        {
          "output_type": "stream",
          "name": "stdout",
          "text": [
            "Статистика: 2781699320.5000, p-value: 0.0126\n",
            "Отвергаем нулевую гипотезу в пользу альтернативной\n"
          ]
        }
      ],
      "source": [
        "from scipy.stats import mannwhitneyu\n",
        "\n",
        "alpha = 0.05  # уровень значимости\n",
        "\n",
        "# вычисляем результат теста Манна — Уитни для выборок\n",
        "test_stat, p_value = mannwhitneyu(\n",
        "    x=df_ad[\"total_ads\"],\n",
        "    y=df_psa[\"total_ads\"],\n",
        "    alternative=\"two-sided\",\n",
        ")\n",
        "print(\"Статистика: %.4f, p-value: %.4f\" % (test_stat, p_value))\n",
        "\n",
        "# сравниваем полученное p-value с уровнем значимости\n",
        "if p_value <= alpha:\n",
        "    print(\"Отвергаем нулевую гипотезу в пользу альтернативной\")\n",
        "else:\n",
        "    print(\"У нас нет оснований отвергнуть нулевую гипотезу\")"
      ]
    },
    {
      "cell_type": "code",
      "execution_count": null,
      "metadata": {
        "colab": {
          "base_uri": "https://localhost:8080/"
        },
        "id": "NalwWIkcM9_i",
        "outputId": "4c2d7e2d-9dec-4895-9d8c-8750b02d3200"
      },
      "outputs": [
        {
          "output_type": "stream",
          "name": "stdout",
          "text": [
            "Статистика: 2781699320.5000, p-value: 0.0063\n",
            "Отвергаем нулевую гипотезу в пользу альтернативной\n"
          ]
        }
      ],
      "source": [
        "# Для уточнения направления различя проведём тест снова\n",
        "test_stat, p_value = mannwhitneyu(\n",
        "    x=df_ad[\"total_ads\"],\n",
        "    y=df_psa[\"total_ads\"],\n",
        "    alternative=\"greater\",\n",
        ")\n",
        "print(\"Статистика: %.4f, p-value: %.4f\" % (test_stat, p_value))\n",
        "\n",
        "# сравниваем полученное p-value с уровнем значимости\n",
        "if p_value <= alpha:\n",
        "    print(\"Отвергаем нулевую гипотезу в пользу альтернативной\")\n",
        "else:\n",
        "    print(\"У нас нет оснований отвергнуть нулевую гипотезу\")"
      ]
    },
    {
      "cell_type": "markdown",
      "metadata": {
        "id": "nhkRBUHEQC-P"
      },
      "source": [
        "**Промежуточный вывод:** Согласно полученным результатам, количество увиденной рекламы в группе рекламы (ad) отличается от количества увиденный объявлений группе объявления госслужбы (psa). В экспериментальной группе пользователи видели больше рекламы."
      ]
    },
    {
      "cell_type": "markdown",
      "source": [
        "[↑наверх](#cell-qyni2CjeNBvh)"
      ],
      "metadata": {
        "id": "KDXrHWo1P4Ma"
      }
    },
    {
      "cell_type": "markdown",
      "metadata": {
        "id": "TkIsyeC8S76d"
      },
      "source": [
        "# 4. Доверительные интервалы для анализа результатов A/B-теста"
      ]
    },
    {
      "cell_type": "markdown",
      "metadata": {
        "id": "jsGp0CidpX9D"
      },
      "source": [
        "## 4.1. Доверительные интервалы для конверсий в каждой из групп"
      ]
    },
    {
      "cell_type": "code",
      "execution_count": null,
      "metadata": {
        "colab": {
          "base_uri": "https://localhost:8080/"
        },
        "id": "GuMHBPnBNVJd",
        "outputId": "89e9c788-b5a3-4af5-d2bf-51815d171d0e"
      },
      "outputs": [
        {
          "output_type": "stream",
          "name": "stdout",
          "text": [
            "95% доверительный интервал для конверсии в группе «ad»: [1.7165, 1.8008]\n",
            "95% доверительный интервал для конверсии в группе «psa»: [1.2641, 1.6501]\n"
          ]
        }
      ],
      "source": [
        "# Строим 95% доверительные интервалы для конверсии\n",
        "\n",
        "from statsmodels.stats.proportion import proportion_confint\n",
        "\n",
        "conf_intervals_ad = proportion_confint(\n",
        "    sum(df_ad[\"converted\"]), df_ad[\"user_id\"].count(), method=\"wilson\"\n",
        ")\n",
        "conf_intervals_psa = proportion_confint(\n",
        "    sum(df_psa[\"converted\"]), df_psa[\"user_id\"].count(), method=\"wilson\"\n",
        ")\n",
        "\n",
        "print(\n",
        "    \"95% доверительный интервал для конверсии в группе «ad»:\",\n",
        "    \"[%.4f, %.4f]\" % (conf_intervals_ad[0] * 100, conf_intervals_ad[1] * 100),\n",
        ")\n",
        "\n",
        "print(\n",
        "    \"95% доверительный интервал для конверсии в группе «psa»:\",\n",
        "    \"[%.4f, %.4f]\" % (conf_intervals_psa[0] * 100, conf_intervals_psa[1] * 100),\n",
        ")"
      ]
    },
    {
      "cell_type": "markdown",
      "metadata": {
        "id": "abI8xaq4oHUR"
      },
      "source": [
        "**Промежуточный вывод**: Доверительные интервалы конверсии не перекрываются, значит различия конверсий являются значимыми. В группе эксперимента («ad») кампания была успешнее, чем в группе контроля («psa»)."
      ]
    },
    {
      "cell_type": "markdown",
      "metadata": {
        "id": "GTRMbCwKpb6h"
      },
      "source": [
        "## 4.2. Доверительный интервал для разницы конверсий"
      ]
    },
    {
      "cell_type": "code",
      "execution_count": null,
      "metadata": {
        "id": "KOR4JMSgdLQg"
      },
      "outputs": [],
      "source": [
        "from scipy.stats import norm\n",
        "\n",
        "\n",
        "# Функция для построения доверительного интервала для разницы пропорций конверсии\n",
        "def proportions_diff_conf_ind(sample1, sample2, alpha=0.05):\n",
        "    z = norm.ppf(1 - alpha / 2.0)  # z-критическое\n",
        "\n",
        "    p1 = float(sum(sample1)) / len(sample1)\n",
        "    p2 = float(sum(sample2)) / len(sample2)\n",
        "\n",
        "    diff = p1 - p2  # выборочная разница групп\n",
        "    eps = z * np.sqrt(\n",
        "        p1 * (1 - p1) / len(sample1) + p2 * (1 - p2) / len(sample2)\n",
        "    )  # погрешность\n",
        "\n",
        "    left_boundary = diff - eps  # левая граница\n",
        "    right_boundary = diff + eps  # правая граница\n",
        "\n",
        "    return (left_boundary, right_boundary)"
      ]
    },
    {
      "cell_type": "code",
      "execution_count": null,
      "metadata": {
        "colab": {
          "base_uri": "https://localhost:8080/"
        },
        "id": "a3L5Zsv1eHHc",
        "outputId": "24f7b8b6-7ba7-43d0-d74e-ebf7fd53abaf"
      },
      "outputs": [
        {
          "output_type": "stream",
          "name": "stdout",
          "text": [
            "95% доверительный интервал для разницы конверсий: [0.1165, 0.5108]\n"
          ]
        }
      ],
      "source": [
        "# Cтроим доверительный интервал для разности пропорций конверсии\n",
        "conf_intervals_diff = proportions_diff_conf_ind(\n",
        "    df_ad[\"converted\"], df_psa[\"converted\"], 0.05\n",
        ")\n",
        "# выводим результат\n",
        "print(\n",
        "    \"95% доверительный интервал для разницы конверсий:\",\n",
        "    \"[%.4f, %.4f]\" % (conf_intervals_diff[0] * 100, conf_intervals_diff[1] * 100),\n",
        ")"
      ]
    },
    {
      "cell_type": "markdown",
      "metadata": {
        "id": "grh5vRPdOgOM"
      },
      "source": [
        "**Промежуточный вывод:** Вероятность того, что доверительный интервал [0.1165, 0.5108] содержит истинную разницу коверсий, составляет 95%. Разница конверсий (0.3137) попадает в границы доверительного интервала."
      ]
    },
    {
      "cell_type": "markdown",
      "metadata": {
        "id": "aCd131EhzYIE"
      },
      "source": [
        "## 4.3. Доверительные интервалы для среднего количества увиденной рекламы"
      ]
    },
    {
      "cell_type": "markdown",
      "metadata": {
        "id": "qWV_wQFtPxSl"
      },
      "source": [
        "<font color = #cc0000>DISCALMER: Согласно формулировке задания, а также комментарию преподавателя на очном семинаре, доверительные интервалы требуется строить именно вокруг среднего значения, несмотря на то, что данные по показателю количества увиденной рекламы не подчиняется закону нормального распределения.</font>"
      ]
    },
    {
      "cell_type": "code",
      "execution_count": null,
      "metadata": {
        "colab": {
          "base_uri": "https://localhost:8080/"
        },
        "id": "849wm_STM9_o",
        "outputId": "326cbefe-094e-484b-846e-85cfa399e090"
      },
      "outputs": [
        {
          "output_type": "stream",
          "name": "stdout",
          "text": [
            "Среднее количество увиденной рекламы в группе «ad»: 20.12\n",
            "Среднее количество увиденной рекламы в группе «psa»: 20.02\n"
          ]
        }
      ],
      "source": [
        "# Средние значения\n",
        "print(\n",
        "    \"Среднее количество увиденной рекламы в группе «ad»: %.2f\"\n",
        "    % (df_ad[\"total_ads\"].mean())\n",
        ")\n",
        "print(\n",
        "    \"Среднее количество увиденной рекламы в группе «psa»: %.2f\"\n",
        "    % (df_psa[\"total_ads\"].mean())\n",
        ")"
      ]
    },
    {
      "cell_type": "code",
      "execution_count": null,
      "metadata": {
        "id": "gax1-GEOM9_o"
      },
      "outputs": [],
      "source": [
        "# Функция для создания репликаций\n",
        "def bootstrap_replicate_1d(data, func):\n",
        "    bs_sample = np.random.choice(data, len(data))\n",
        "    return func(bs_sample)"
      ]
    },
    {
      "cell_type": "code",
      "execution_count": null,
      "metadata": {
        "id": "aG-74PdaM9_p"
      },
      "outputs": [],
      "source": [
        "# Фукция для множественных бутстреп репликаций\n",
        "def draw_bs_reps(data, func, size=1):\n",
        "    bs_replicates = np.empty(size)\n",
        "\n",
        "    for i in range(size):\n",
        "        bs_replicates[i] = bootstrap_replicate_1d(data, func)\n",
        "    return bs_replicates"
      ]
    },
    {
      "cell_type": "code",
      "execution_count": null,
      "metadata": {
        "id": "_fLDTVfBM9_p"
      },
      "outputs": [],
      "source": [
        "# Выполняем бутстреп для группы «ad»\n",
        "bs_means_ad = draw_bs_reps(df_ad[\"total_ads\"], np.mean, size=10000)\n",
        "\n",
        "# Выполняем бутстреп для группы «psa»\n",
        "bs_means_psa = draw_bs_reps(df_psa[\"total_ads\"], np.mean, size=10000)"
      ]
    },
    {
      "cell_type": "code",
      "execution_count": null,
      "metadata": {
        "colab": {
          "base_uri": "https://localhost:8080/"
        },
        "id": "nGkPXJJnM9_p",
        "outputId": "233d29f1-c9a0-4707-ff44-eb8a37f0797c"
      },
      "outputs": [
        {
          "output_type": "stream",
          "name": "stdout",
          "text": [
            "ДИ для среднего группы «ad»: 20.08-20.17\n",
            "ДИ для среднего группы «psa»: 19.80-20.24\n"
          ]
        }
      ],
      "source": [
        "# Строим доверительные интервалы для среднего группы «ad»\n",
        "ci_ad = np.percentile(bs_means_ad, [2.5, 97.5])\n",
        "print(\"ДИ для среднего группы «ad»: %.2f-%.2f\" % (ci_ad[0], ci_ad[1]))\n",
        "\n",
        "# Строим доверительные интервалы для среднего группы «psa»\n",
        "ci_psa = np.percentile(bs_means_psa, [2.5, 97.5])\n",
        "print(\"ДИ для среднего группы «psa»: %.2f-%.2f\" % (ci_psa[0], ci_psa[1]))"
      ]
    },
    {
      "cell_type": "code",
      "execution_count": null,
      "metadata": {
        "colab": {
          "base_uri": "https://localhost:8080/",
          "height": 436
        },
        "id": "esU8MQq9M9_q",
        "outputId": "6d7b29b2-5e35-41b6-d87d-efe7dd901eac"
      },
      "outputs": [
        {
          "output_type": "execute_result",
          "data": {
            "text/plain": [
              "<matplotlib.collections.PolyCollection at 0x7fb50bed7460>"
            ]
          },
          "metadata": {},
          "execution_count": 44
        },
        {
          "output_type": "display_data",
          "data": {
            "text/plain": [
              "<Figure size 1500x400 with 2 Axes>"
            ],
            "image/png": "[encoded data removed]"
          },
          "metadata": {}
        }
      ],
      "source": [
        "# Визуализируем гистограммы:\n",
        "fig, axes = plt.subplots(nrows=1, ncols=2, figsize=(15, 4))\n",
        "histplot_ad = sns.histplot(data=bs_means_ad, ax=axes[0], color=\"turquoise\")\n",
        "histplot_ad.set_title(\"Распределение в группе «ad»\")\n",
        "histplot_ad.set_xlabel(\"Среднее количество увиденной рекламы\")\n",
        "histplot_ad.set_ylabel(\"Частота\")\n",
        "histplot_ad.fill_betweenx([0, 600], ci_ad[0], ci_ad[1], color=\"g\", alpha=0.1)\n",
        "\n",
        "histplot_psa = sns.histplot(data=bs_means_psa, ax=axes[1], color=\"gold\")\n",
        "histplot_psa.set_title(\"Распределение в группе «psa»\")\n",
        "histplot_psa.set_xlabel(\"Среднее количество увиденной рекламы\")\n",
        "histplot_psa.set_ylabel(\"Частота\")\n",
        "histplot_psa.fill_betweenx([0, 600], ci_psa[0], ci_psa[1], color=\"y\", alpha=0.1)"
      ]
    },
    {
      "cell_type": "code",
      "execution_count": null,
      "metadata": {
        "colab": {
          "base_uri": "https://localhost:8080/",
          "height": 365
        },
        "id": "eGZi4Gw0M9_q",
        "outputId": "09e69306-bd5c-4cd5-c28a-fbf0030c27b0"
      },
      "outputs": [
        {
          "output_type": "display_data",
          "data": {
            "text/plain": [
              "<Figure size 800x300 with 1 Axes>"
            ],
            "image/png": "[encoded data removed]"
          },
          "metadata": {}
        }
      ],
      "source": [
        "# Визуализируем перекрытие:\n",
        "fig = plt.figure(figsize=(8, 3))\n",
        "ax = fig.add_axes([1, 1, 1, 1])\n",
        "histplot_psa = sns.histplot(data=bs_means_psa, binwidth=0.005, color=\"gold\")\n",
        "histplot_psa.fill_betweenx([0, 1000], ci_psa[0], ci_psa[1], color=\"y\", alpha=0.1)\n",
        "histplot_ad = sns.histplot(data=bs_means_ad, binwidth=0.005, color=\"turquoise\")\n",
        "histplot_ad.fill_betweenx([0, 1000], ci_ad[0], ci_ad[1], color=\"g\", alpha=0.1)\n",
        "histplot_psa.set_ylabel(\"Частота\")\n",
        "plt.show()"
      ]
    },
    {
      "cell_type": "markdown",
      "metadata": {
        "id": "LspWXJXTM9_r"
      },
      "source": [
        "**Промежуточный вывод:** Наблюдаются перекрытия доверительных интервалов. Таким образом, мы не можем говорить о том, что количество увиденной рекламы в группе рекламы (ad) отличается от количества увиденный объявлений группе объявления госслужбы (psa)."
      ]
    },
    {
      "cell_type": "markdown",
      "source": [
        "[↑наверх](#cell-qyni2CjeNBvh)"
      ],
      "metadata": {
        "id": "Tl8WrXjsP6Xq"
      }
    },
    {
      "cell_type": "markdown",
      "metadata": {
        "id": "z1jDEuWuM9_s"
      },
      "source": [
        "# Обобщённые итоги и вывод"
      ]
    },
    {
      "cell_type": "code",
      "execution_count": null,
      "metadata": {
        "colab": {
          "base_uri": "https://localhost:8080/"
        },
        "id": "mxH7XMVGM9_s",
        "outputId": "ebc14056-2fcb-41cd-a783-283f6fa67a17"
      },
      "outputs": [
        {
          "output_type": "stream",
          "name": "stdout",
          "text": [
            "Размер эффекта: 0.02\n"
          ]
        }
      ],
      "source": [
        "# Прежде чем делать окончательные выводы, рассчитаем размер эффекта\n",
        "cohens_d = (df_ad[\"converted\"].mean() - df_psa[\"converted\"].mean()) / (\n",
        "    np.sqrt((df_ad[\"converted\"].std() ** 2 + df_psa[\"converted\"].std() ** 2) / 2)\n",
        ")\n",
        "print(\"Размер эффекта: %.2f\" % (cohens_d))"
      ]
    },
    {
      "cell_type": "markdown",
      "metadata": {
        "id": "KKI9AP5DM9_s"
      },
      "source": [
        "## 1.  Проведён анализ структуры и предобработка данных\n",
        "\n",
        "Было выявлено, что все пользователи были уникальными, одни и те же пользователи не могли входить одноврененно в разные группы A/B-теста.\n",
        "\n",
        "\n",
        "## 2. Выполнен первичный анализ результатов A/B-тестирования\n",
        "\n",
        "Рассчитаны вспомогательные показатели для контрольной и тестовой групп — количество уникальных посетителей сайта, количество просмотренной рекламы и суммарное количество совершённых покупок. В экспериментальной группе (ad) было 372778 уникальных пользователей, 7501283 просмотров рекламы и 6554 соврешенных покупок.В контрольной группе (psa) было 14746 уникальных пользователей, 295268 просмотров рекламы и 213 соврешенных покупок.\n",
        "    \n",
        "Согласно рассчётам, было выявлено, что:\n",
        "* Количества посещений обоих вариантов посадочной страницы не являются сопоставимыми\n",
        "* Выборки не являются сбалансированными\n",
        "    \n",
        "Также в каждой из групп рассчитаны ключевые показатели среднее количество увиденной рекламы и конверсия. В экспериментальной группе (ad) в среднем пользователи видели рекламу 20.12 раз, покупки совершили 1.76% посетителей. В контрольной группе (psd) в среднем пользователи видели рекламу 20.02 раза, покупки совершили 1.44% посетителей. На основе этих данных можно предположить, что:\n",
        "\n",
        "* Конверсия экспериментальной группы («ad»), несколько выше чем в контрольной группе («psa»)\n",
        "* Среднее количество увиденной рекламы в обеих группах примерно одинаковое\n",
        "\n",
        "Таким образом, на первый взгляд, можно предположить, что при почти одинаковом среднем количестве увиденной рекламы, по показателю конверсии рекламная кампания в группе «ad» эффективнее, чем в группе «psa».\n",
        "\n",
        "\n",
        "## 3. Проведён статистический анализ результатов A/B-тестирования\n",
        "\n",
        "#### 3.1. Конверсия\n",
        "Поскольку нас интересовала успешность рекламной кампании, были формулировать следующие гипотезы:\n",
        "* $H_0:$ конверсия в группе рекламы (ad) равна или меньше, чем конверсия в группе объявления госслужбы (psa)\n",
        "* $H_1:$ конверсия в группе рекламы (ad) выше конверсии в группе объявления госслужбы (psa)\n",
        "\n",
        "Согласно выполненному статистическому тесту, конверсия в группе рекламы (ad) оказалась статистически значимо выше, чем в группе объявления госслужбы (psa).\n",
        "    \n",
        "#### 3.2. Количество увиденной рекламы группах\n",
        "Сформулированы гипотезы:\n",
        "* $H_0:$ Среднее количество увиденной рекламы в группе «ad» и в группе «psa» одинаково\n",
        "* $H_1:$ Среднее количество увиденной рекламы в группе «ad» и в группе «psa» имеет различия\n",
        "\n",
        "Поскольку имеем дело с количественными данными, для выбора статистического критерия, были выполнены тесты проверки на нормальное распрделение. Поскольку данные не подчинялись закону нормального распределения, было принято решение о применении непараметрического теста и об использовании меры центральной тенденции и интервальной оценки для данных, распределение которых отлично от нормального (Me [Q1-Q3]). Таки образом, количество увиденной рекламы в группе «ad» составило 16.00 [9.00-27.00], а в группе «psa»: 17.00 [8.00-26.00]. Выявлено, что группе «ad» медианное значение меньше, чем в группе «psa», однако межквартильный размах в группе «ad» расположен в более высоких значениях.\n",
        "    \n",
        "Для применения теста Манна-Уитни для независимых были сформулированы гипотезы:\n",
        "*   $H_0:$ Распределение лежащее в основе количества увиденной рекламы в группе «ad» и в группе «psa» идентично\n",
        "*   $H_1:$ Распределение лежащее в основе количества увиденной рекламы в группе «ad» и в группе «psa» имеет различия\n",
        "\n",
        "Согласно полученным результатам, количество увиденной рекламы в группе рекламы (ad) отличается от количества увиденный объявлений группе объявления госслужбы (psa). При выполнении повторного теста Манна-Уитни с односторонней гипотезой было выявлено, что в экспериментальной группе пользователи видели стастически значимо больше рекламы.\n",
        "    \n",
        "    \n",
        "\n",
        "## 4. Построены доверительные интервалы для анализа результатов A/B-теста\n",
        "\n",
        "#### 4.1. Доверительные интервалы для конверсий в каждой из групп.\n",
        "95% ДИ для конверсии в группе «ad»: [1.7165, 1.8008], в группе «psa»: [1.2641, 1.6501]. Доверительные интервалы конверсии групп не перекрываются, значит различия конверсий являются значимыми. В группе эксперимента («ad») кампания была успешнее, чем в группе контроля («psa»).\n",
        "\n",
        "#### 4.2. Доверительный интервал для разницы конверсий.\n",
        "С веротяностью 95% доверительный интервал [0.1165, 0.5108] содержит истинную разницу средней коверсии. Разница конверсий между группами (0.3137) попадает в границы доверительного интервала.\n",
        "    \n",
        "#### 4.3. Доверительные интервалы для среднего количества увиденной рекламы.\n",
        "95% ДИ для конверсии в группе «ad»: [20.08-20.17], в группе «psa»: [19.80-20.25]. Выявлено, что доверительные интервалы перекрываются. Таким образом, мы не можем говорить о том, что количество увиденной рекламы в группе рекламы (ad) отличается от количества увиденный объявлений группе объявления госслужбы (psa).\n",
        "\n",
        "## ВЫВОДЫ\n",
        "\n",
        "Согласно оценке конверсии по результатам анализа проведённого теста, рекламаная кампания была успешной. Однако относительно среднего количества просмотренной рекламы получены противоречивые данные, которые не позволяют до конца ислючать то, что успех рекламной кампании связан с тем, что участники экспериментальной группы просмотрели больше рекламы.\n",
        "Кроме того, рассчитанная величина размера эффекта оказалась маленькой.\n",
        "\n",
        "Таким образом, немотря на успех рекламной кампании, мы вынуждены сообщить, что для более уверенных выводов требуются дополнительные тесты."
      ]
    },
    {
      "cell_type": "markdown",
      "source": [
        "[↑наверх](#cell-qyni2CjeNBvh)"
      ],
      "metadata": {
        "id": "ZGiHTyNiP8PY"
      }
    },
    {
      "cell_type": "markdown",
      "metadata": {
        "id": "lj4QU27qM9_t"
      },
      "source": [
        "# Дополнительный анализ"
      ]
    },
    {
      "cell_type": "code",
      "execution_count": null,
      "metadata": {
        "scrolled": false,
        "colab": {
          "base_uri": "https://localhost:8080/",
          "height": 571
        },
        "id": "zqIM_CR5M9_t",
        "outputId": "02f0d0a8-9679-47ec-bda0-8729a4354048"
      },
      "outputs": [
        {
          "output_type": "display_data",
          "data": {
            "text/plain": [
              "<Figure size 800x400 with 0 Axes>"
            ]
          },
          "metadata": {}
        },
        {
          "output_type": "display_data",
          "data": {
            "text/plain": [
              "<Figure size 640x480 with 1 Axes>"
            ],
            "image/png": "[encoded data removed]"
          },
          "metadata": {}
        }
      ],
      "source": [
        "# Визуализируем конверсию по дням недели\n",
        "fig = plt.figure(figsize=(8, 4))\n",
        "ax = (\n",
        "    cleaned_df.groupby(by=[\"most_ads_day\", \"test_group\"])\n",
        "    .sum()[\"converted\"]\n",
        "    .unstack(\"test_group\")\n",
        "    .plot(kind=\"bar\", color=[\"turquoise\", \"gold\"], stacked=True)\n",
        ")\n",
        "ax.legend(\n",
        "    loc=\"upper right\",\n",
        "    labels=[\"Экспериментальная группа\", \"Контрольная группа\"],\n",
        ")\n",
        "ax.set_ylabel(\"Конверсия\")\n",
        "ax.set_xlabel(\"Дни недели\")\n",
        "ax.set_title(\"Конверсия в разные дни недели\")\n",
        "plt.show()"
      ]
    },
    {
      "cell_type": "code",
      "execution_count": null,
      "metadata": {
        "colab": {
          "base_uri": "https://localhost:8080/",
          "height": 537
        },
        "id": "r6JYOoXLM9_t",
        "outputId": "b6be6a83-a1fa-4e61-cf37-44cc5db6673b"
      },
      "outputs": [
        {
          "output_type": "stream",
          "name": "stderr",
          "text": [
            "<ipython-input-50-48f64e09255b>:4: FutureWarning: The default value of numeric_only in DataFrameGroupBy.sum is deprecated. In a future version, numeric_only will default to False. Either specify numeric_only or select only columns which should be valid for the function.\n",
            "  cleaned_df.groupby(by=[\"most_ads_hour\", \"test_group\"]).sum()[\"converted\"]\n"
          ]
        },
        {
          "output_type": "display_data",
          "data": {
            "text/plain": [
              "<Figure size 800x400 with 0 Axes>"
            ]
          },
          "metadata": {}
        },
        {
          "output_type": "display_data",
          "data": {
            "text/plain": [
              "<Figure size 640x480 with 1 Axes>"
            ],
            "image/png": "[encoded data removed]"
          },
          "metadata": {}
        }
      ],
      "source": [
        "# Визуализируем конверсию по часам суток\n",
        "fig = plt.figure(figsize=(8, 4))\n",
        "ax = (\n",
        "    cleaned_df.groupby(by=[\"most_ads_hour\", \"test_group\"]).sum()[\"converted\"]\n",
        "    .unstack(\"test_group\")\n",
        "    .plot(kind=\"bar\", color=[\"turquoise\", \"gold\"], stacked=True)\n",
        ");\n",
        "ax.legend(\n",
        "    loc=\"upper left\",\n",
        "    labels=[\"Экспериментальная группа\", \"Контрольная группа\"],\n",
        ")\n",
        "ax.set_ylabel(\"Конверсия\")\n",
        "ax.set_xlabel(\"Часы суток\")\n",
        "ax.set_title(\"Конверсия в разные дни недели\")\n",
        "plt.show()"
      ]
    },
    {
      "cell_type": "markdown",
      "metadata": {
        "id": "zmIxVMeWM9_u"
      },
      "source": [
        "**Дополнительные выводы:** Наибольшая конверсия суммарно в обеих группах наблюдается в понедельник. В течение суток, в среднем наибольшая конверсия наблюдается в дневное время, с 12 до 16 часов."
      ]
    }
  ],
  "metadata": {
    "colab": {
      "provenance": []
    },
    "kernelspec": {
      "display_name": "Python 3 (ipykernel)",
      "language": "python",
      "name": "python3"
    },
    "language_info": {
      "codemirror_mode": {
        "name": "ipython",
        "version": 3
      },
      "file_extension": ".py",
      "mimetype": "text/x-python",
      "name": "python",
      "nbconvert_exporter": "python",
      "pygments_lexer": "ipython3",
      "version": "3.11.5"
    }
  },
  "nbformat": 4,
  "nbformat_minor": 0
}